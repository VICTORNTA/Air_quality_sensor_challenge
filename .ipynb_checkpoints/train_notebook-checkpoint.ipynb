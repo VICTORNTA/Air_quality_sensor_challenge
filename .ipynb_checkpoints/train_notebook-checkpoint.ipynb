{
 "cells": [
  {
   "cell_type": "code",
   "execution_count": 3,
   "id": "5ace41b4",
   "metadata": {},
   "outputs": [],
   "source": [
    "import pandas as pd\n",
    "import numpy as np\n",
    "import matplotlib.pyplot as plt\n",
    "import seaborn as sns\n",
    "import datetime as dt\n",
    "from imblearn.over_sampling import SMOTE,RandomOverSampler"
   ]
  },
  {
   "cell_type": "code",
   "execution_count": 6,
   "id": "5a375d00",
   "metadata": {},
   "outputs": [],
   "source": [
    "read_df = pd.read_csv(\"./train.csv\",parse_dates=['Datetime'])\n",
    "test_df = pd.read_csv(\"./new_test.csv\",parse_dates=['Datetime'])"
   ]
  },
  {
   "cell_type": "code",
   "execution_count": 7,
   "id": "b40682a2",
   "metadata": {},
   "outputs": [
    {
     "name": "stdout",
     "output_type": "stream",
     "text": [
      "<class 'pandas.core.frame.DataFrame'>\n",
      "RangeIndex: 297177 entries, 0 to 297176\n",
      "Data columns (total 7 columns):\n",
      " #   Column             Non-Null Count   Dtype         \n",
      "---  ------             --------------   -----         \n",
      " 0   ID                 297177 non-null  object        \n",
      " 1   Datetime           297177 non-null  datetime64[ns]\n",
      " 2   Sensor1_PM2.5      293563 non-null  float64       \n",
      " 3   Sensor2_PM2.5      293563 non-null  float64       \n",
      " 4   Temperature        293628 non-null  float64       \n",
      " 5   Relative_Humidity  293628 non-null  float64       \n",
      " 6   Offset_fault       297177 non-null  int64         \n",
      "dtypes: datetime64[ns](1), float64(4), int64(1), object(1)\n",
      "memory usage: 15.9+ MB\n"
     ]
    }
   ],
   "source": [
    "read_df.info()"
   ]
  },
  {
   "cell_type": "code",
   "execution_count": 8,
   "id": "b5a054f8",
   "metadata": {},
   "outputs": [
    {
     "data": {
      "text/html": [
       "<div>\n",
       "<style scoped>\n",
       "    .dataframe tbody tr th:only-of-type {\n",
       "        vertical-align: middle;\n",
       "    }\n",
       "\n",
       "    .dataframe tbody tr th {\n",
       "        vertical-align: top;\n",
       "    }\n",
       "\n",
       "    .dataframe thead th {\n",
       "        text-align: right;\n",
       "    }\n",
       "</style>\n",
       "<table border=\"1\" class=\"dataframe\">\n",
       "  <thead>\n",
       "    <tr style=\"text-align: right;\">\n",
       "      <th></th>\n",
       "      <th>ID</th>\n",
       "      <th>Datetime</th>\n",
       "      <th>Sensor1_PM2.5</th>\n",
       "      <th>Sensor2_PM2.5</th>\n",
       "      <th>Temperature</th>\n",
       "      <th>Relative_Humidity</th>\n",
       "      <th>Offset_fault</th>\n",
       "    </tr>\n",
       "  </thead>\n",
       "  <tbody>\n",
       "    <tr>\n",
       "      <th>0</th>\n",
       "      <td>ID_QF0ZTQJ2SF5Q</td>\n",
       "      <td>2021-11-03 04:06:31</td>\n",
       "      <td>52.58</td>\n",
       "      <td>49.52</td>\n",
       "      <td>17.4</td>\n",
       "      <td>96.0</td>\n",
       "      <td>0</td>\n",
       "    </tr>\n",
       "    <tr>\n",
       "      <th>1</th>\n",
       "      <td>ID_4GTK689CNX5S</td>\n",
       "      <td>2021-11-08 18:43:23</td>\n",
       "      <td>35.25</td>\n",
       "      <td>33.40</td>\n",
       "      <td>25.0</td>\n",
       "      <td>75.0</td>\n",
       "      <td>0</td>\n",
       "    </tr>\n",
       "    <tr>\n",
       "      <th>2</th>\n",
       "      <td>ID_DL7VVKW9U7XQ</td>\n",
       "      <td>2021-11-07 09:50:33</td>\n",
       "      <td>19.18</td>\n",
       "      <td>23.50</td>\n",
       "      <td>24.9</td>\n",
       "      <td>75.0</td>\n",
       "      <td>0</td>\n",
       "    </tr>\n",
       "    <tr>\n",
       "      <th>3</th>\n",
       "      <td>ID_6XQOMBXM2DG3</td>\n",
       "      <td>2022-01-01 18:55:15</td>\n",
       "      <td>19.40</td>\n",
       "      <td>15.48</td>\n",
       "      <td>24.9</td>\n",
       "      <td>70.0</td>\n",
       "      <td>0</td>\n",
       "    </tr>\n",
       "    <tr>\n",
       "      <th>4</th>\n",
       "      <td>ID_UQZW9ISJY9QE</td>\n",
       "      <td>2021-11-05 22:23:48</td>\n",
       "      <td>38.30</td>\n",
       "      <td>34.77</td>\n",
       "      <td>20.9</td>\n",
       "      <td>89.0</td>\n",
       "      <td>0</td>\n",
       "    </tr>\n",
       "  </tbody>\n",
       "</table>\n",
       "</div>"
      ],
      "text/plain": [
       "                ID            Datetime  Sensor1_PM2.5  Sensor2_PM2.5  \\\n",
       "0  ID_QF0ZTQJ2SF5Q 2021-11-03 04:06:31          52.58          49.52   \n",
       "1  ID_4GTK689CNX5S 2021-11-08 18:43:23          35.25          33.40   \n",
       "2  ID_DL7VVKW9U7XQ 2021-11-07 09:50:33          19.18          23.50   \n",
       "3  ID_6XQOMBXM2DG3 2022-01-01 18:55:15          19.40          15.48   \n",
       "4  ID_UQZW9ISJY9QE 2021-11-05 22:23:48          38.30          34.77   \n",
       "\n",
       "   Temperature  Relative_Humidity  Offset_fault  \n",
       "0         17.4               96.0             0  \n",
       "1         25.0               75.0             0  \n",
       "2         24.9               75.0             0  \n",
       "3         24.9               70.0             0  \n",
       "4         20.9               89.0             0  "
      ]
     },
     "execution_count": 8,
     "metadata": {},
     "output_type": "execute_result"
    }
   ],
   "source": [
    "read_df.head()"
   ]
  },
  {
   "cell_type": "code",
   "execution_count": 9,
   "id": "099ac14b",
   "metadata": {},
   "outputs": [
    {
     "data": {
      "text/html": [
       "<div>\n",
       "<style scoped>\n",
       "    .dataframe tbody tr th:only-of-type {\n",
       "        vertical-align: middle;\n",
       "    }\n",
       "\n",
       "    .dataframe tbody tr th {\n",
       "        vertical-align: top;\n",
       "    }\n",
       "\n",
       "    .dataframe thead th {\n",
       "        text-align: right;\n",
       "    }\n",
       "</style>\n",
       "<table border=\"1\" class=\"dataframe\">\n",
       "  <thead>\n",
       "    <tr style=\"text-align: right;\">\n",
       "      <th></th>\n",
       "      <th>Unnamed: 0</th>\n",
       "      <th>ID</th>\n",
       "      <th>Datetime</th>\n",
       "      <th>Sensor1_PM2.5</th>\n",
       "      <th>Sensor2_PM2.5</th>\n",
       "      <th>Temperature</th>\n",
       "      <th>Relative_Humidity</th>\n",
       "      <th>Hour</th>\n",
       "      <th>Month</th>\n",
       "      <th>Day of Week</th>\n",
       "    </tr>\n",
       "  </thead>\n",
       "  <tbody>\n",
       "    <tr>\n",
       "      <th>0</th>\n",
       "      <td>0</td>\n",
       "      <td>ID_STL3V9B2OU12</td>\n",
       "      <td>2022-01-28 08:49:41</td>\n",
       "      <td>90.75</td>\n",
       "      <td>114.78</td>\n",
       "      <td>22.2</td>\n",
       "      <td>56.0</td>\n",
       "      <td>8</td>\n",
       "      <td>1</td>\n",
       "      <td>4</td>\n",
       "    </tr>\n",
       "    <tr>\n",
       "      <th>1</th>\n",
       "      <td>1</td>\n",
       "      <td>ID_U2EKAY4SGA94</td>\n",
       "      <td>2022-02-16 21:30:17</td>\n",
       "      <td>56.03</td>\n",
       "      <td>52.18</td>\n",
       "      <td>20.5</td>\n",
       "      <td>90.0</td>\n",
       "      <td>21</td>\n",
       "      <td>2</td>\n",
       "      <td>2</td>\n",
       "    </tr>\n",
       "    <tr>\n",
       "      <th>2</th>\n",
       "      <td>2</td>\n",
       "      <td>ID_UJFLEWQR0U4N</td>\n",
       "      <td>2022-01-24 17:57:18</td>\n",
       "      <td>387.35</td>\n",
       "      <td>346.73</td>\n",
       "      <td>28.1</td>\n",
       "      <td>63.0</td>\n",
       "      <td>17</td>\n",
       "      <td>1</td>\n",
       "      <td>0</td>\n",
       "    </tr>\n",
       "    <tr>\n",
       "      <th>3</th>\n",
       "      <td>3</td>\n",
       "      <td>ID_S2C2GPGA4R5I</td>\n",
       "      <td>2022-01-31 07:07:09</td>\n",
       "      <td>63.17</td>\n",
       "      <td>83.85</td>\n",
       "      <td>21.6</td>\n",
       "      <td>82.0</td>\n",
       "      <td>7</td>\n",
       "      <td>1</td>\n",
       "      <td>0</td>\n",
       "    </tr>\n",
       "    <tr>\n",
       "      <th>4</th>\n",
       "      <td>4</td>\n",
       "      <td>ID_5V2C2ZL221H8</td>\n",
       "      <td>2022-01-31 00:37:05</td>\n",
       "      <td>69.23</td>\n",
       "      <td>53.07</td>\n",
       "      <td>22.7</td>\n",
       "      <td>80.0</td>\n",
       "      <td>0</td>\n",
       "      <td>1</td>\n",
       "      <td>0</td>\n",
       "    </tr>\n",
       "  </tbody>\n",
       "</table>\n",
       "</div>"
      ],
      "text/plain": [
       "   Unnamed: 0               ID            Datetime  Sensor1_PM2.5  \\\n",
       "0           0  ID_STL3V9B2OU12 2022-01-28 08:49:41          90.75   \n",
       "1           1  ID_U2EKAY4SGA94 2022-02-16 21:30:17          56.03   \n",
       "2           2  ID_UJFLEWQR0U4N 2022-01-24 17:57:18         387.35   \n",
       "3           3  ID_S2C2GPGA4R5I 2022-01-31 07:07:09          63.17   \n",
       "4           4  ID_5V2C2ZL221H8 2022-01-31 00:37:05          69.23   \n",
       "\n",
       "   Sensor2_PM2.5  Temperature  Relative_Humidity  Hour  Month  Day of Week  \n",
       "0         114.78         22.2               56.0     8      1            4  \n",
       "1          52.18         20.5               90.0    21      2            2  \n",
       "2         346.73         28.1               63.0    17      1            0  \n",
       "3          83.85         21.6               82.0     7      1            0  \n",
       "4          53.07         22.7               80.0     0      1            0  "
      ]
     },
     "execution_count": 9,
     "metadata": {},
     "output_type": "execute_result"
    }
   ],
   "source": [
    "test_df.head()"
   ]
  },
  {
   "cell_type": "code",
   "execution_count": 15,
   "id": "ca1099ef",
   "metadata": {},
   "outputs": [
    {
     "data": {
      "text/html": [
       "<div>\n",
       "<style scoped>\n",
       "    .dataframe tbody tr th:only-of-type {\n",
       "        vertical-align: middle;\n",
       "    }\n",
       "\n",
       "    .dataframe tbody tr th {\n",
       "        vertical-align: top;\n",
       "    }\n",
       "\n",
       "    .dataframe thead th {\n",
       "        text-align: right;\n",
       "    }\n",
       "</style>\n",
       "<table border=\"1\" class=\"dataframe\">\n",
       "  <thead>\n",
       "    <tr style=\"text-align: right;\">\n",
       "      <th></th>\n",
       "      <th>Sensor1_PM2.5</th>\n",
       "      <th>Sensor2_PM2.5</th>\n",
       "      <th>Temperature</th>\n",
       "      <th>Relative_Humidity</th>\n",
       "      <th>Offset_fault</th>\n",
       "    </tr>\n",
       "  </thead>\n",
       "  <tbody>\n",
       "    <tr>\n",
       "      <th>count</th>\n",
       "      <td>293563.000000</td>\n",
       "      <td>293563.000000</td>\n",
       "      <td>293628.000000</td>\n",
       "      <td>293628.000000</td>\n",
       "      <td>297177.000000</td>\n",
       "    </tr>\n",
       "    <tr>\n",
       "      <th>mean</th>\n",
       "      <td>40.751195</td>\n",
       "      <td>38.183018</td>\n",
       "      <td>23.316554</td>\n",
       "      <td>78.653623</td>\n",
       "      <td>0.371072</td>\n",
       "    </tr>\n",
       "    <tr>\n",
       "      <th>std</th>\n",
       "      <td>28.526182</td>\n",
       "      <td>28.647761</td>\n",
       "      <td>3.836971</td>\n",
       "      <td>14.772725</td>\n",
       "      <td>0.483092</td>\n",
       "    </tr>\n",
       "    <tr>\n",
       "      <th>min</th>\n",
       "      <td>-9.450000</td>\n",
       "      <td>-9.700000</td>\n",
       "      <td>16.700000</td>\n",
       "      <td>27.000000</td>\n",
       "      <td>0.000000</td>\n",
       "    </tr>\n",
       "    <tr>\n",
       "      <th>25%</th>\n",
       "      <td>22.430000</td>\n",
       "      <td>19.520000</td>\n",
       "      <td>20.400000</td>\n",
       "      <td>68.000000</td>\n",
       "      <td>0.000000</td>\n",
       "    </tr>\n",
       "    <tr>\n",
       "      <th>50%</th>\n",
       "      <td>36.470000</td>\n",
       "      <td>33.720000</td>\n",
       "      <td>21.900000</td>\n",
       "      <td>84.000000</td>\n",
       "      <td>0.000000</td>\n",
       "    </tr>\n",
       "    <tr>\n",
       "      <th>75%</th>\n",
       "      <td>49.420000</td>\n",
       "      <td>47.570000</td>\n",
       "      <td>26.300000</td>\n",
       "      <td>91.000000</td>\n",
       "      <td>1.000000</td>\n",
       "    </tr>\n",
       "    <tr>\n",
       "      <th>max</th>\n",
       "      <td>997.960000</td>\n",
       "      <td>997.260000</td>\n",
       "      <td>34.900000</td>\n",
       "      <td>99.000000</td>\n",
       "      <td>1.000000</td>\n",
       "    </tr>\n",
       "  </tbody>\n",
       "</table>\n",
       "</div>"
      ],
      "text/plain": [
       "       Sensor1_PM2.5  Sensor2_PM2.5    Temperature  Relative_Humidity  \\\n",
       "count  293563.000000  293563.000000  293628.000000      293628.000000   \n",
       "mean       40.751195      38.183018      23.316554          78.653623   \n",
       "std        28.526182      28.647761       3.836971          14.772725   \n",
       "min        -9.450000      -9.700000      16.700000          27.000000   \n",
       "25%        22.430000      19.520000      20.400000          68.000000   \n",
       "50%        36.470000      33.720000      21.900000          84.000000   \n",
       "75%        49.420000      47.570000      26.300000          91.000000   \n",
       "max       997.960000     997.260000      34.900000          99.000000   \n",
       "\n",
       "        Offset_fault  \n",
       "count  297177.000000  \n",
       "mean        0.371072  \n",
       "std         0.483092  \n",
       "min         0.000000  \n",
       "25%         0.000000  \n",
       "50%         0.000000  \n",
       "75%         1.000000  \n",
       "max         1.000000  "
      ]
     },
     "execution_count": 15,
     "metadata": {},
     "output_type": "execute_result"
    }
   ],
   "source": [
    "read_df.describe()"
   ]
  },
  {
   "cell_type": "code",
   "execution_count": 28,
   "id": "562be89e",
   "metadata": {},
   "outputs": [
    {
     "data": {
      "text/plain": [
       "ID                      0\n",
       "Datetime                0\n",
       "Sensor1_PM2.5        3614\n",
       "Sensor2_PM2.5        3614\n",
       "Temperature          3549\n",
       "Relative_Humidity    3549\n",
       "Offset_fault            0\n",
       "dtype: int64"
      ]
     },
     "execution_count": 28,
     "metadata": {},
     "output_type": "execute_result"
    }
   ],
   "source": [
    "read_df.isna().sum()"
   ]
  },
  {
   "cell_type": "code",
   "execution_count": 29,
   "id": "c17dfe1a",
   "metadata": {},
   "outputs": [
    {
     "data": {
      "text/html": [
       "<div>\n",
       "<style scoped>\n",
       "    .dataframe tbody tr th:only-of-type {\n",
       "        vertical-align: middle;\n",
       "    }\n",
       "\n",
       "    .dataframe tbody tr th {\n",
       "        vertical-align: top;\n",
       "    }\n",
       "\n",
       "    .dataframe thead th {\n",
       "        text-align: right;\n",
       "    }\n",
       "</style>\n",
       "<table border=\"1\" class=\"dataframe\">\n",
       "  <thead>\n",
       "    <tr style=\"text-align: right;\">\n",
       "      <th></th>\n",
       "      <th>Sensor1_PM2.5</th>\n",
       "      <th>Sensor2_PM2.5</th>\n",
       "      <th>Temperature</th>\n",
       "      <th>Relative_Humidity</th>\n",
       "      <th>Offset_fault</th>\n",
       "    </tr>\n",
       "  </thead>\n",
       "  <tbody>\n",
       "    <tr>\n",
       "      <th>Sensor1_PM2.5</th>\n",
       "      <td>1.000000</td>\n",
       "      <td>0.959253</td>\n",
       "      <td>-0.390342</td>\n",
       "      <td>0.345020</td>\n",
       "      <td>-0.176257</td>\n",
       "    </tr>\n",
       "    <tr>\n",
       "      <th>Sensor2_PM2.5</th>\n",
       "      <td>0.959253</td>\n",
       "      <td>1.000000</td>\n",
       "      <td>-0.363295</td>\n",
       "      <td>0.318470</td>\n",
       "      <td>-0.309739</td>\n",
       "    </tr>\n",
       "    <tr>\n",
       "      <th>Temperature</th>\n",
       "      <td>-0.390342</td>\n",
       "      <td>-0.363295</td>\n",
       "      <td>1.000000</td>\n",
       "      <td>-0.933608</td>\n",
       "      <td>0.005218</td>\n",
       "    </tr>\n",
       "    <tr>\n",
       "      <th>Relative_Humidity</th>\n",
       "      <td>0.345020</td>\n",
       "      <td>0.318470</td>\n",
       "      <td>-0.933608</td>\n",
       "      <td>1.000000</td>\n",
       "      <td>-0.005508</td>\n",
       "    </tr>\n",
       "    <tr>\n",
       "      <th>Offset_fault</th>\n",
       "      <td>-0.176257</td>\n",
       "      <td>-0.309739</td>\n",
       "      <td>0.005218</td>\n",
       "      <td>-0.005508</td>\n",
       "      <td>1.000000</td>\n",
       "    </tr>\n",
       "  </tbody>\n",
       "</table>\n",
       "</div>"
      ],
      "text/plain": [
       "                   Sensor1_PM2.5  Sensor2_PM2.5  Temperature  \\\n",
       "Sensor1_PM2.5           1.000000       0.959253    -0.390342   \n",
       "Sensor2_PM2.5           0.959253       1.000000    -0.363295   \n",
       "Temperature            -0.390342      -0.363295     1.000000   \n",
       "Relative_Humidity       0.345020       0.318470    -0.933608   \n",
       "Offset_fault           -0.176257      -0.309739     0.005218   \n",
       "\n",
       "                   Relative_Humidity  Offset_fault  \n",
       "Sensor1_PM2.5               0.345020     -0.176257  \n",
       "Sensor2_PM2.5               0.318470     -0.309739  \n",
       "Temperature                -0.933608      0.005218  \n",
       "Relative_Humidity           1.000000     -0.005508  \n",
       "Offset_fault               -0.005508      1.000000  "
      ]
     },
     "execution_count": 29,
     "metadata": {},
     "output_type": "execute_result"
    }
   ],
   "source": [
    "read_df.corr()"
   ]
  },
  {
   "cell_type": "code",
   "execution_count": 48,
   "id": "dd9a0844",
   "metadata": {},
   "outputs": [],
   "source": [
    "read_df['Hour'] = read_df['Datetime'].apply(lambda time: time.hour)\n",
    "read_df['Month'] = read_df['Datetime'].apply(lambda time: time.month)\n",
    "read_df['Day of Week'] = read_df['Datetime'].apply(lambda time: time.dayofweek)"
   ]
  },
  {
   "cell_type": "code",
   "execution_count": 49,
   "id": "c8ed299d",
   "metadata": {},
   "outputs": [
    {
     "data": {
      "text/html": [
       "<div>\n",
       "<style scoped>\n",
       "    .dataframe tbody tr th:only-of-type {\n",
       "        vertical-align: middle;\n",
       "    }\n",
       "\n",
       "    .dataframe tbody tr th {\n",
       "        vertical-align: top;\n",
       "    }\n",
       "\n",
       "    .dataframe thead th {\n",
       "        text-align: right;\n",
       "    }\n",
       "</style>\n",
       "<table border=\"1\" class=\"dataframe\">\n",
       "  <thead>\n",
       "    <tr style=\"text-align: right;\">\n",
       "      <th></th>\n",
       "      <th>ID</th>\n",
       "      <th>Datetime</th>\n",
       "      <th>Sensor1_PM2.5</th>\n",
       "      <th>Sensor2_PM2.5</th>\n",
       "      <th>Temperature</th>\n",
       "      <th>Relative_Humidity</th>\n",
       "      <th>Offset_fault</th>\n",
       "      <th>Hour</th>\n",
       "      <th>Month</th>\n",
       "      <th>Day of Week</th>\n",
       "    </tr>\n",
       "  </thead>\n",
       "  <tbody>\n",
       "    <tr>\n",
       "      <th>0</th>\n",
       "      <td>ID_QF0ZTQJ2SF5Q</td>\n",
       "      <td>2021-11-03 04:06:31</td>\n",
       "      <td>52.58</td>\n",
       "      <td>49.52</td>\n",
       "      <td>17.4</td>\n",
       "      <td>96.0</td>\n",
       "      <td>0</td>\n",
       "      <td>4</td>\n",
       "      <td>11</td>\n",
       "      <td>2</td>\n",
       "    </tr>\n",
       "    <tr>\n",
       "      <th>1</th>\n",
       "      <td>ID_4GTK689CNX5S</td>\n",
       "      <td>2021-11-08 18:43:23</td>\n",
       "      <td>35.25</td>\n",
       "      <td>33.40</td>\n",
       "      <td>25.0</td>\n",
       "      <td>75.0</td>\n",
       "      <td>0</td>\n",
       "      <td>18</td>\n",
       "      <td>11</td>\n",
       "      <td>0</td>\n",
       "    </tr>\n",
       "    <tr>\n",
       "      <th>2</th>\n",
       "      <td>ID_DL7VVKW9U7XQ</td>\n",
       "      <td>2021-11-07 09:50:33</td>\n",
       "      <td>19.18</td>\n",
       "      <td>23.50</td>\n",
       "      <td>24.9</td>\n",
       "      <td>75.0</td>\n",
       "      <td>0</td>\n",
       "      <td>9</td>\n",
       "      <td>11</td>\n",
       "      <td>6</td>\n",
       "    </tr>\n",
       "    <tr>\n",
       "      <th>3</th>\n",
       "      <td>ID_6XQOMBXM2DG3</td>\n",
       "      <td>2022-01-01 18:55:15</td>\n",
       "      <td>19.40</td>\n",
       "      <td>15.48</td>\n",
       "      <td>24.9</td>\n",
       "      <td>70.0</td>\n",
       "      <td>0</td>\n",
       "      <td>18</td>\n",
       "      <td>1</td>\n",
       "      <td>5</td>\n",
       "    </tr>\n",
       "    <tr>\n",
       "      <th>4</th>\n",
       "      <td>ID_UQZW9ISJY9QE</td>\n",
       "      <td>2021-11-05 22:23:48</td>\n",
       "      <td>38.30</td>\n",
       "      <td>34.77</td>\n",
       "      <td>20.9</td>\n",
       "      <td>89.0</td>\n",
       "      <td>0</td>\n",
       "      <td>22</td>\n",
       "      <td>11</td>\n",
       "      <td>4</td>\n",
       "    </tr>\n",
       "    <tr>\n",
       "      <th>...</th>\n",
       "      <td>...</td>\n",
       "      <td>...</td>\n",
       "      <td>...</td>\n",
       "      <td>...</td>\n",
       "      <td>...</td>\n",
       "      <td>...</td>\n",
       "      <td>...</td>\n",
       "      <td>...</td>\n",
       "      <td>...</td>\n",
       "      <td>...</td>\n",
       "    </tr>\n",
       "    <tr>\n",
       "      <th>297172</th>\n",
       "      <td>ID_AQFTZIKVX2QL</td>\n",
       "      <td>2021-11-19 12:32:00</td>\n",
       "      <td>36.40</td>\n",
       "      <td>37.77</td>\n",
       "      <td>28.6</td>\n",
       "      <td>62.0</td>\n",
       "      <td>0</td>\n",
       "      <td>12</td>\n",
       "      <td>11</td>\n",
       "      <td>4</td>\n",
       "    </tr>\n",
       "    <tr>\n",
       "      <th>297173</th>\n",
       "      <td>ID_2X0AJPWOMJNA</td>\n",
       "      <td>2021-11-22 01:22:54</td>\n",
       "      <td>50.12</td>\n",
       "      <td>40.63</td>\n",
       "      <td>21.6</td>\n",
       "      <td>86.0</td>\n",
       "      <td>1</td>\n",
       "      <td>1</td>\n",
       "      <td>11</td>\n",
       "      <td>0</td>\n",
       "    </tr>\n",
       "    <tr>\n",
       "      <th>297174</th>\n",
       "      <td>ID_0OAQMV7USTI4</td>\n",
       "      <td>2021-11-05 01:27:31</td>\n",
       "      <td>53.68</td>\n",
       "      <td>45.23</td>\n",
       "      <td>20.2</td>\n",
       "      <td>94.0</td>\n",
       "      <td>1</td>\n",
       "      <td>1</td>\n",
       "      <td>11</td>\n",
       "      <td>4</td>\n",
       "    </tr>\n",
       "    <tr>\n",
       "      <th>297175</th>\n",
       "      <td>ID_Y8FDAO06VXGJ</td>\n",
       "      <td>2021-11-23 22:09:30</td>\n",
       "      <td>96.45</td>\n",
       "      <td>114.67</td>\n",
       "      <td>20.6</td>\n",
       "      <td>93.0</td>\n",
       "      <td>0</td>\n",
       "      <td>22</td>\n",
       "      <td>11</td>\n",
       "      <td>1</td>\n",
       "    </tr>\n",
       "    <tr>\n",
       "      <th>297176</th>\n",
       "      <td>ID_3XEXH72VWK4J</td>\n",
       "      <td>2021-11-23 06:33:04</td>\n",
       "      <td>44.27</td>\n",
       "      <td>36.77</td>\n",
       "      <td>17.3</td>\n",
       "      <td>95.0</td>\n",
       "      <td>1</td>\n",
       "      <td>6</td>\n",
       "      <td>11</td>\n",
       "      <td>1</td>\n",
       "    </tr>\n",
       "  </tbody>\n",
       "</table>\n",
       "<p>297177 rows × 10 columns</p>\n",
       "</div>"
      ],
      "text/plain": [
       "                     ID            Datetime  Sensor1_PM2.5  Sensor2_PM2.5  \\\n",
       "0       ID_QF0ZTQJ2SF5Q 2021-11-03 04:06:31          52.58          49.52   \n",
       "1       ID_4GTK689CNX5S 2021-11-08 18:43:23          35.25          33.40   \n",
       "2       ID_DL7VVKW9U7XQ 2021-11-07 09:50:33          19.18          23.50   \n",
       "3       ID_6XQOMBXM2DG3 2022-01-01 18:55:15          19.40          15.48   \n",
       "4       ID_UQZW9ISJY9QE 2021-11-05 22:23:48          38.30          34.77   \n",
       "...                 ...                 ...            ...            ...   \n",
       "297172  ID_AQFTZIKVX2QL 2021-11-19 12:32:00          36.40          37.77   \n",
       "297173  ID_2X0AJPWOMJNA 2021-11-22 01:22:54          50.12          40.63   \n",
       "297174  ID_0OAQMV7USTI4 2021-11-05 01:27:31          53.68          45.23   \n",
       "297175  ID_Y8FDAO06VXGJ 2021-11-23 22:09:30          96.45         114.67   \n",
       "297176  ID_3XEXH72VWK4J 2021-11-23 06:33:04          44.27          36.77   \n",
       "\n",
       "        Temperature  Relative_Humidity  Offset_fault  Hour  Month  Day of Week  \n",
       "0              17.4               96.0             0     4     11            2  \n",
       "1              25.0               75.0             0    18     11            0  \n",
       "2              24.9               75.0             0     9     11            6  \n",
       "3              24.9               70.0             0    18      1            5  \n",
       "4              20.9               89.0             0    22     11            4  \n",
       "...             ...                ...           ...   ...    ...          ...  \n",
       "297172         28.6               62.0             0    12     11            4  \n",
       "297173         21.6               86.0             1     1     11            0  \n",
       "297174         20.2               94.0             1     1     11            4  \n",
       "297175         20.6               93.0             0    22     11            1  \n",
       "297176         17.3               95.0             1     6     11            1  \n",
       "\n",
       "[297177 rows x 10 columns]"
      ]
     },
     "execution_count": 49,
     "metadata": {},
     "output_type": "execute_result"
    }
   ],
   "source": [
    "read_df"
   ]
  },
  {
   "cell_type": "code",
   "execution_count": 50,
   "id": "dea83fb2",
   "metadata": {},
   "outputs": [],
   "source": [
    "dmap = {0:'Mon',1:'Tue',2:'Wed',3:'Thu',4:'Fri',5:'Sat',6:'Sun'}"
   ]
  },
  {
   "cell_type": "code",
   "execution_count": 52,
   "id": "0ab7677f",
   "metadata": {},
   "outputs": [],
   "source": [
    "read_df['Day of Week'] = read_df['Day of Week'].map(dmap)"
   ]
  },
  {
   "cell_type": "code",
   "execution_count": 53,
   "id": "a45ea94b",
   "metadata": {},
   "outputs": [
    {
     "data": {
      "text/html": [
       "<div>\n",
       "<style scoped>\n",
       "    .dataframe tbody tr th:only-of-type {\n",
       "        vertical-align: middle;\n",
       "    }\n",
       "\n",
       "    .dataframe tbody tr th {\n",
       "        vertical-align: top;\n",
       "    }\n",
       "\n",
       "    .dataframe thead th {\n",
       "        text-align: right;\n",
       "    }\n",
       "</style>\n",
       "<table border=\"1\" class=\"dataframe\">\n",
       "  <thead>\n",
       "    <tr style=\"text-align: right;\">\n",
       "      <th></th>\n",
       "      <th>ID</th>\n",
       "      <th>Datetime</th>\n",
       "      <th>Sensor1_PM2.5</th>\n",
       "      <th>Sensor2_PM2.5</th>\n",
       "      <th>Temperature</th>\n",
       "      <th>Relative_Humidity</th>\n",
       "      <th>Offset_fault</th>\n",
       "      <th>Hour</th>\n",
       "      <th>Month</th>\n",
       "      <th>Day of Week</th>\n",
       "    </tr>\n",
       "  </thead>\n",
       "  <tbody>\n",
       "    <tr>\n",
       "      <th>0</th>\n",
       "      <td>ID_QF0ZTQJ2SF5Q</td>\n",
       "      <td>2021-11-03 04:06:31</td>\n",
       "      <td>52.58</td>\n",
       "      <td>49.52</td>\n",
       "      <td>17.4</td>\n",
       "      <td>96.0</td>\n",
       "      <td>0</td>\n",
       "      <td>4</td>\n",
       "      <td>11</td>\n",
       "      <td>Wed</td>\n",
       "    </tr>\n",
       "    <tr>\n",
       "      <th>1</th>\n",
       "      <td>ID_4GTK689CNX5S</td>\n",
       "      <td>2021-11-08 18:43:23</td>\n",
       "      <td>35.25</td>\n",
       "      <td>33.40</td>\n",
       "      <td>25.0</td>\n",
       "      <td>75.0</td>\n",
       "      <td>0</td>\n",
       "      <td>18</td>\n",
       "      <td>11</td>\n",
       "      <td>Mon</td>\n",
       "    </tr>\n",
       "    <tr>\n",
       "      <th>2</th>\n",
       "      <td>ID_DL7VVKW9U7XQ</td>\n",
       "      <td>2021-11-07 09:50:33</td>\n",
       "      <td>19.18</td>\n",
       "      <td>23.50</td>\n",
       "      <td>24.9</td>\n",
       "      <td>75.0</td>\n",
       "      <td>0</td>\n",
       "      <td>9</td>\n",
       "      <td>11</td>\n",
       "      <td>Sun</td>\n",
       "    </tr>\n",
       "    <tr>\n",
       "      <th>3</th>\n",
       "      <td>ID_6XQOMBXM2DG3</td>\n",
       "      <td>2022-01-01 18:55:15</td>\n",
       "      <td>19.40</td>\n",
       "      <td>15.48</td>\n",
       "      <td>24.9</td>\n",
       "      <td>70.0</td>\n",
       "      <td>0</td>\n",
       "      <td>18</td>\n",
       "      <td>1</td>\n",
       "      <td>Sat</td>\n",
       "    </tr>\n",
       "    <tr>\n",
       "      <th>4</th>\n",
       "      <td>ID_UQZW9ISJY9QE</td>\n",
       "      <td>2021-11-05 22:23:48</td>\n",
       "      <td>38.30</td>\n",
       "      <td>34.77</td>\n",
       "      <td>20.9</td>\n",
       "      <td>89.0</td>\n",
       "      <td>0</td>\n",
       "      <td>22</td>\n",
       "      <td>11</td>\n",
       "      <td>Fri</td>\n",
       "    </tr>\n",
       "  </tbody>\n",
       "</table>\n",
       "</div>"
      ],
      "text/plain": [
       "                ID            Datetime  Sensor1_PM2.5  Sensor2_PM2.5  \\\n",
       "0  ID_QF0ZTQJ2SF5Q 2021-11-03 04:06:31          52.58          49.52   \n",
       "1  ID_4GTK689CNX5S 2021-11-08 18:43:23          35.25          33.40   \n",
       "2  ID_DL7VVKW9U7XQ 2021-11-07 09:50:33          19.18          23.50   \n",
       "3  ID_6XQOMBXM2DG3 2022-01-01 18:55:15          19.40          15.48   \n",
       "4  ID_UQZW9ISJY9QE 2021-11-05 22:23:48          38.30          34.77   \n",
       "\n",
       "   Temperature  Relative_Humidity  Offset_fault  Hour  Month Day of Week  \n",
       "0         17.4               96.0             0     4     11         Wed  \n",
       "1         25.0               75.0             0    18     11         Mon  \n",
       "2         24.9               75.0             0     9     11         Sun  \n",
       "3         24.9               70.0             0    18      1         Sat  \n",
       "4         20.9               89.0             0    22     11         Fri  "
      ]
     },
     "execution_count": 53,
     "metadata": {},
     "output_type": "execute_result"
    }
   ],
   "source": [
    "read_df.head()"
   ]
  },
  {
   "cell_type": "code",
   "execution_count": 55,
   "id": "993e8b4a",
   "metadata": {},
   "outputs": [
    {
     "data": {
      "text/plain": [
       "<AxesSubplot:xlabel='Month', ylabel='count'>"
      ]
     },
     "execution_count": 55,
     "metadata": {},
     "output_type": "execute_result"
    },
    {
     "data": {
      "image/png": "[encoded data removed]",
      "text/plain": [
       "<Figure size 432x288 with 1 Axes>"
      ]
     },
     "metadata": {
      "needs_background": "light"
     },
     "output_type": "display_data"
    }
   ],
   "source": [
    "sns.countplot(x='Month',data=read_df,palette='viridis')"
   ]
  },
  {
   "cell_type": "markdown",
   "id": "6f30e467",
   "metadata": {},
   "source": [
    "Take this seriously"
   ]
  },
  {
   "cell_type": "code",
   "execution_count": 60,
   "id": "f5058b8b",
   "metadata": {},
   "outputs": [
    {
     "data": {
      "text/plain": [
       "<AxesSubplot:xlabel='Temperature', ylabel='Day of Week'>"
      ]
     },
     "execution_count": 60,
     "metadata": {},
     "output_type": "execute_result"
    },
    {
     "data": {
      "image/png": "[encoded data removed]",
      "text/plain": [
       "<Figure size 432x288 with 1 Axes>"
      ]
     },
     "metadata": {
      "needs_background": "light"
     },
     "output_type": "display_data"
    }
   ],
   "source": [
    "#Wow\n",
    "sns.boxplot(x = read_df['Temperature'],y=read_df['Day of Week'])"
   ]
  },
  {
   "cell_type": "code",
   "execution_count": 84,
   "id": "db30b7eb",
   "metadata": {},
   "outputs": [
    {
     "data": {
      "text/plain": [
       "1     1464\n",
       "12    1045\n",
       "11     788\n",
       "10     252\n",
       "Name: Month, dtype: int64"
      ]
     },
     "execution_count": 84,
     "metadata": {},
     "output_type": "execute_result"
    }
   ],
   "source": [
    "read_df[read_df['Temperature'].isna()]['Month'].value_counts()"
   ]
  },
  {
   "cell_type": "code",
   "execution_count": 85,
   "id": "6e5970ea",
   "metadata": {},
   "outputs": [
    {
     "data": {
      "text/plain": [
       "11    525\n",
       "13    383\n",
       "19    344\n",
       "14    332\n",
       "12    326\n",
       "10    306\n",
       "17    250\n",
       "21    218\n",
       "15    191\n",
       "20    187\n",
       "8     104\n",
       "22    101\n",
       "9      97\n",
       "16     95\n",
       "18     90\n",
       "Name: Hour, dtype: int64"
      ]
     },
     "execution_count": 85,
     "metadata": {},
     "output_type": "execute_result"
    }
   ],
   "source": [
    "read_df[read_df['Temperature'].isna()]['Hour'].value_counts()"
   ]
  },
  {
   "cell_type": "code",
   "execution_count": 87,
   "id": "0736c737",
   "metadata": {},
   "outputs": [
    {
     "data": {
      "text/plain": [
       "Wed    1538\n",
       "Sat     707\n",
       "Tue     693\n",
       "Thu     327\n",
       "Fri     180\n",
       "Sun     104\n",
       "Name: Day of Week, dtype: int64"
      ]
     },
     "execution_count": 87,
     "metadata": {},
     "output_type": "execute_result"
    }
   ],
   "source": [
    "read_df[read_df['Temperature'].isna()]['Day of Week'].value_counts()"
   ]
  },
  {
   "cell_type": "code",
   "execution_count": 100,
   "id": "affd65ac",
   "metadata": {},
   "outputs": [],
   "source": [
    "missing_values_df = read_df[read_df['Temperature'].isna()]"
   ]
  },
  {
   "cell_type": "code",
   "execution_count": 102,
   "id": "cdafdd3f",
   "metadata": {},
   "outputs": [
    {
     "name": "stdout",
     "output_type": "stream",
     "text": [
      "<class 'pandas.core.frame.DataFrame'>\n",
      "Int64Index: 3549 entries, 103 to 297083\n",
      "Data columns (total 10 columns):\n",
      " #   Column             Non-Null Count  Dtype         \n",
      "---  ------             --------------  -----         \n",
      " 0   ID                 3549 non-null   object        \n",
      " 1   Datetime           3549 non-null   datetime64[ns]\n",
      " 2   Sensor1_PM2.5      3549 non-null   float64       \n",
      " 3   Sensor2_PM2.5      3549 non-null   float64       \n",
      " 4   Temperature        0 non-null      float64       \n",
      " 5   Relative_Humidity  0 non-null      float64       \n",
      " 6   Offset_fault       3549 non-null   int64         \n",
      " 7   Hour               3549 non-null   int64         \n",
      " 8   Month              3549 non-null   int64         \n",
      " 9   Day of Week        3549 non-null   object        \n",
      "dtypes: datetime64[ns](1), float64(4), int64(3), object(2)\n",
      "memory usage: 305.0+ KB\n"
     ]
    }
   ],
   "source": [
    "missing_values_df.info()"
   ]
  },
  {
   "cell_type": "code",
   "execution_count": 103,
   "id": "a665213c",
   "metadata": {},
   "outputs": [
    {
     "data": {
      "text/html": [
       "<div>\n",
       "<style scoped>\n",
       "    .dataframe tbody tr th:only-of-type {\n",
       "        vertical-align: middle;\n",
       "    }\n",
       "\n",
       "    .dataframe tbody tr th {\n",
       "        vertical-align: top;\n",
       "    }\n",
       "\n",
       "    .dataframe thead th {\n",
       "        text-align: right;\n",
       "    }\n",
       "</style>\n",
       "<table border=\"1\" class=\"dataframe\">\n",
       "  <thead>\n",
       "    <tr style=\"text-align: right;\">\n",
       "      <th></th>\n",
       "      <th>ID</th>\n",
       "      <th>Datetime</th>\n",
       "      <th>Sensor1_PM2.5</th>\n",
       "      <th>Sensor2_PM2.5</th>\n",
       "      <th>Temperature</th>\n",
       "      <th>Relative_Humidity</th>\n",
       "      <th>Offset_fault</th>\n",
       "      <th>Hour</th>\n",
       "      <th>Month</th>\n",
       "      <th>Day of Week</th>\n",
       "    </tr>\n",
       "  </thead>\n",
       "  <tbody>\n",
       "    <tr>\n",
       "      <th>103</th>\n",
       "      <td>ID_UL9WZBMCZ441</td>\n",
       "      <td>2022-01-12 10:43:23</td>\n",
       "      <td>15.98</td>\n",
       "      <td>9.38</td>\n",
       "      <td>NaN</td>\n",
       "      <td>NaN</td>\n",
       "      <td>1</td>\n",
       "      <td>10</td>\n",
       "      <td>1</td>\n",
       "      <td>Wed</td>\n",
       "    </tr>\n",
       "    <tr>\n",
       "      <th>104</th>\n",
       "      <td>ID_R4X8Q5NOZ5B9</td>\n",
       "      <td>2022-01-19 14:26:38</td>\n",
       "      <td>28.87</td>\n",
       "      <td>22.87</td>\n",
       "      <td>NaN</td>\n",
       "      <td>NaN</td>\n",
       "      <td>0</td>\n",
       "      <td>14</td>\n",
       "      <td>1</td>\n",
       "      <td>Wed</td>\n",
       "    </tr>\n",
       "    <tr>\n",
       "      <th>148</th>\n",
       "      <td>ID_ZS45U91YVMV4</td>\n",
       "      <td>2021-11-24 13:18:42</td>\n",
       "      <td>35.15</td>\n",
       "      <td>43.62</td>\n",
       "      <td>NaN</td>\n",
       "      <td>NaN</td>\n",
       "      <td>0</td>\n",
       "      <td>13</td>\n",
       "      <td>11</td>\n",
       "      <td>Wed</td>\n",
       "    </tr>\n",
       "    <tr>\n",
       "      <th>171</th>\n",
       "      <td>ID_1NSWONBPX1D9</td>\n",
       "      <td>2022-01-12 10:27:19</td>\n",
       "      <td>25.12</td>\n",
       "      <td>23.05</td>\n",
       "      <td>NaN</td>\n",
       "      <td>NaN</td>\n",
       "      <td>0</td>\n",
       "      <td>10</td>\n",
       "      <td>1</td>\n",
       "      <td>Wed</td>\n",
       "    </tr>\n",
       "    <tr>\n",
       "      <th>397</th>\n",
       "      <td>ID_BBVZHETSV936</td>\n",
       "      <td>2022-01-12 19:25:26</td>\n",
       "      <td>36.87</td>\n",
       "      <td>42.18</td>\n",
       "      <td>NaN</td>\n",
       "      <td>NaN</td>\n",
       "      <td>0</td>\n",
       "      <td>19</td>\n",
       "      <td>1</td>\n",
       "      <td>Wed</td>\n",
       "    </tr>\n",
       "  </tbody>\n",
       "</table>\n",
       "</div>"
      ],
      "text/plain": [
       "                  ID            Datetime  Sensor1_PM2.5  Sensor2_PM2.5  \\\n",
       "103  ID_UL9WZBMCZ441 2022-01-12 10:43:23          15.98           9.38   \n",
       "104  ID_R4X8Q5NOZ5B9 2022-01-19 14:26:38          28.87          22.87   \n",
       "148  ID_ZS45U91YVMV4 2021-11-24 13:18:42          35.15          43.62   \n",
       "171  ID_1NSWONBPX1D9 2022-01-12 10:27:19          25.12          23.05   \n",
       "397  ID_BBVZHETSV936 2022-01-12 19:25:26          36.87          42.18   \n",
       "\n",
       "     Temperature  Relative_Humidity  Offset_fault  Hour  Month Day of Week  \n",
       "103          NaN                NaN             1    10      1         Wed  \n",
       "104          NaN                NaN             0    14      1         Wed  \n",
       "148          NaN                NaN             0    13     11         Wed  \n",
       "171          NaN                NaN             0    10      1         Wed  \n",
       "397          NaN                NaN             0    19      1         Wed  "
      ]
     },
     "execution_count": 103,
     "metadata": {},
     "output_type": "execute_result"
    }
   ],
   "source": [
    "missing_values_df.head()"
   ]
  },
  {
   "cell_type": "code",
   "execution_count": 205,
   "id": "93005998",
   "metadata": {},
   "outputs": [],
   "source": [
    "mean_values = read_df.groupby(['Month','Day of Week',\"Hour\"]).mean()"
   ]
  },
  {
   "cell_type": "code",
   "execution_count": 206,
   "id": "ecffe85e",
   "metadata": {},
   "outputs": [
    {
     "data": {
      "text/html": [
       "<div>\n",
       "<style scoped>\n",
       "    .dataframe tbody tr th:only-of-type {\n",
       "        vertical-align: middle;\n",
       "    }\n",
       "\n",
       "    .dataframe tbody tr th {\n",
       "        vertical-align: top;\n",
       "    }\n",
       "\n",
       "    .dataframe thead th {\n",
       "        text-align: right;\n",
       "    }\n",
       "</style>\n",
       "<table border=\"1\" class=\"dataframe\">\n",
       "  <thead>\n",
       "    <tr style=\"text-align: right;\">\n",
       "      <th></th>\n",
       "      <th></th>\n",
       "      <th></th>\n",
       "      <th>Sensor1_PM2.5</th>\n",
       "      <th>Sensor2_PM2.5</th>\n",
       "      <th>Temperature</th>\n",
       "      <th>Relative_Humidity</th>\n",
       "      <th>Offset_fault</th>\n",
       "    </tr>\n",
       "    <tr>\n",
       "      <th>Month</th>\n",
       "      <th>Day of Week</th>\n",
       "      <th>Hour</th>\n",
       "      <th></th>\n",
       "      <th></th>\n",
       "      <th></th>\n",
       "      <th></th>\n",
       "      <th></th>\n",
       "    </tr>\n",
       "  </thead>\n",
       "  <tbody>\n",
       "    <tr>\n",
       "      <th rowspan=\"5\" valign=\"top\">1</th>\n",
       "      <th rowspan=\"5\" valign=\"top\">Fri</th>\n",
       "      <th>0</th>\n",
       "      <td>66.384158</td>\n",
       "      <td>64.304158</td>\n",
       "      <td>21.093367</td>\n",
       "      <td>79.364796</td>\n",
       "      <td>0.364796</td>\n",
       "    </tr>\n",
       "    <tr>\n",
       "      <th>1</th>\n",
       "      <td>56.588483</td>\n",
       "      <td>54.159950</td>\n",
       "      <td>20.766667</td>\n",
       "      <td>81.000000</td>\n",
       "      <td>0.365672</td>\n",
       "    </tr>\n",
       "    <tr>\n",
       "      <th>2</th>\n",
       "      <td>54.124593</td>\n",
       "      <td>51.596296</td>\n",
       "      <td>20.900000</td>\n",
       "      <td>81.666667</td>\n",
       "      <td>0.362963</td>\n",
       "    </tr>\n",
       "    <tr>\n",
       "      <th>3</th>\n",
       "      <td>57.021891</td>\n",
       "      <td>54.688085</td>\n",
       "      <td>20.929602</td>\n",
       "      <td>79.320896</td>\n",
       "      <td>0.363184</td>\n",
       "    </tr>\n",
       "    <tr>\n",
       "      <th>4</th>\n",
       "      <td>57.887371</td>\n",
       "      <td>55.689951</td>\n",
       "      <td>20.200983</td>\n",
       "      <td>78.663391</td>\n",
       "      <td>0.361179</td>\n",
       "    </tr>\n",
       "  </tbody>\n",
       "</table>\n",
       "</div>"
      ],
      "text/plain": [
       "                        Sensor1_PM2.5  Sensor2_PM2.5  Temperature  \\\n",
       "Month Day of Week Hour                                              \n",
       "1     Fri         0         66.384158      64.304158    21.093367   \n",
       "                  1         56.588483      54.159950    20.766667   \n",
       "                  2         54.124593      51.596296    20.900000   \n",
       "                  3         57.021891      54.688085    20.929602   \n",
       "                  4         57.887371      55.689951    20.200983   \n",
       "\n",
       "                        Relative_Humidity  Offset_fault  \n",
       "Month Day of Week Hour                                   \n",
       "1     Fri         0             79.364796      0.364796  \n",
       "                  1             81.000000      0.365672  \n",
       "                  2             81.666667      0.362963  \n",
       "                  3             79.320896      0.363184  \n",
       "                  4             78.663391      0.361179  "
      ]
     },
     "execution_count": 206,
     "metadata": {},
     "output_type": "execute_result"
    }
   ],
   "source": [
    "mean_values.head()"
   ]
  },
  {
   "cell_type": "code",
   "execution_count": 184,
   "id": "5b0dee90",
   "metadata": {},
   "outputs": [
    {
     "data": {
      "text/plain": [
       "20.92960199004979"
      ]
     },
     "execution_count": 184,
     "metadata": {},
     "output_type": "execute_result"
    }
   ],
   "source": [
    "mean_values.loc[1,'Fri',3][\"Temperature\"]"
   ]
  },
  {
   "cell_type": "code",
   "execution_count": 188,
   "id": "346146ac",
   "metadata": {},
   "outputs": [],
   "source": [
    "hour = dict(missing_values_df[\"Hour\"])"
   ]
  },
  {
   "cell_type": "code",
   "execution_count": 190,
   "id": "eb2cbc63",
   "metadata": {},
   "outputs": [],
   "source": [
    "hour_list = list(hour.values())"
   ]
  },
  {
   "cell_type": "code",
   "execution_count": 191,
   "id": "44e045b7",
   "metadata": {},
   "outputs": [],
   "source": [
    "day = dict(missing_values_df[\"Day of Week\"])"
   ]
  },
  {
   "cell_type": "code",
   "execution_count": 192,
   "id": "abff2844",
   "metadata": {},
   "outputs": [],
   "source": [
    "day_list = list(day.values())"
   ]
  },
  {
   "cell_type": "code",
   "execution_count": 193,
   "id": "33bb0c41",
   "metadata": {},
   "outputs": [],
   "source": [
    "month = dict(missing_values_df[\"Month\"])"
   ]
  },
  {
   "cell_type": "code",
   "execution_count": 195,
   "id": "63ae1e77",
   "metadata": {},
   "outputs": [],
   "source": [
    "month_list = list(month.values())\n",
    "    "
   ]
  },
  {
   "cell_type": "code",
   "execution_count": 209,
   "id": "d34412a7",
   "metadata": {},
   "outputs": [],
   "source": [
    "gotcha_temp = []\n",
    "gotcha_hum = []"
   ]
  },
  {
   "cell_type": "code",
   "execution_count": 210,
   "id": "8d9cfb6b",
   "metadata": {},
   "outputs": [],
   "source": [
    "for i in range(0,len(day_list)):\n",
    "    gotcha_temp.append(mean_values.loc[month_list[i],day_list[i],hour_list[i]]['Temperature'])"
   ]
  },
  {
   "cell_type": "code",
   "execution_count": 211,
   "id": "1d4f7c6f",
   "metadata": {},
   "outputs": [
    {
     "data": {
      "text/plain": [
       "(1, 'Wed', 10)"
      ]
     },
     "execution_count": 211,
     "metadata": {},
     "output_type": "execute_result"
    }
   ],
   "source": [
    "month_list[0],day_list[0],hour_list[0]"
   ]
  },
  {
   "cell_type": "code",
   "execution_count": 212,
   "id": "f565706e",
   "metadata": {},
   "outputs": [
    {
     "data": {
      "text/plain": [
       "Sensor1_PM2.5        43.061989\n",
       "Sensor2_PM2.5        41.901963\n",
       "Temperature          22.741502\n",
       "Relative_Humidity    75.553360\n",
       "Offset_fault          0.355438\n",
       "Name: (1, Wed, 10), dtype: float64"
      ]
     },
     "execution_count": 212,
     "metadata": {},
     "output_type": "execute_result"
    }
   ],
   "source": [
    "mean_values.loc[1,'Wed',10]"
   ]
  },
  {
   "cell_type": "code",
   "execution_count": 213,
   "id": "dcca6507",
   "metadata": {},
   "outputs": [
    {
     "data": {
      "text/plain": [
       "22.74150197628458"
      ]
     },
     "execution_count": 213,
     "metadata": {},
     "output_type": "execute_result"
    }
   ],
   "source": [
    "gotcha_temp[0]"
   ]
  },
  {
   "cell_type": "code",
   "execution_count": 214,
   "id": "2d9f0813",
   "metadata": {},
   "outputs": [],
   "source": [
    "for i in range(0,len(day_list)):\n",
    "    gotcha_hum.append(mean_values.loc[month_list[i],day_list[i],hour_list[i]]['Relative_Humidity'])"
   ]
  },
  {
   "cell_type": "code",
   "execution_count": 216,
   "id": "52e2d901",
   "metadata": {},
   "outputs": [
    {
     "data": {
      "text/plain": [
       "3549"
      ]
     },
     "execution_count": 216,
     "metadata": {},
     "output_type": "execute_result"
    }
   ],
   "source": [
    "len(gotcha_hum)"
   ]
  },
  {
   "cell_type": "code",
   "execution_count": 217,
   "id": "e2256174",
   "metadata": {},
   "outputs": [
    {
     "name": "stderr",
     "output_type": "stream",
     "text": [
      "<ipython-input-217-27886e1ee2ab>:1: SettingWithCopyWarning: \n",
      "A value is trying to be set on a copy of a slice from a DataFrame.\n",
      "Try using .loc[row_indexer,col_indexer] = value instead\n",
      "\n",
      "See the caveats in the documentation: https://pandas.pydata.org/pandas-docs/stable/user_guide/indexing.html#returning-a-view-versus-a-copy\n",
      "  missing_values_df['Temperature'] = gotcha_temp\n"
     ]
    }
   ],
   "source": [
    "missing_values_df['Temperature'] = gotcha_temp"
   ]
  },
  {
   "cell_type": "code",
   "execution_count": 218,
   "id": "596ace13",
   "metadata": {},
   "outputs": [
    {
     "data": {
      "text/html": [
       "<div>\n",
       "<style scoped>\n",
       "    .dataframe tbody tr th:only-of-type {\n",
       "        vertical-align: middle;\n",
       "    }\n",
       "\n",
       "    .dataframe tbody tr th {\n",
       "        vertical-align: top;\n",
       "    }\n",
       "\n",
       "    .dataframe thead th {\n",
       "        text-align: right;\n",
       "    }\n",
       "</style>\n",
       "<table border=\"1\" class=\"dataframe\">\n",
       "  <thead>\n",
       "    <tr style=\"text-align: right;\">\n",
       "      <th></th>\n",
       "      <th>ID</th>\n",
       "      <th>Datetime</th>\n",
       "      <th>Sensor1_PM2.5</th>\n",
       "      <th>Sensor2_PM2.5</th>\n",
       "      <th>Temperature</th>\n",
       "      <th>Relative_Humidity</th>\n",
       "      <th>Offset_fault</th>\n",
       "      <th>Hour</th>\n",
       "      <th>Month</th>\n",
       "      <th>Day of Week</th>\n",
       "    </tr>\n",
       "  </thead>\n",
       "  <tbody>\n",
       "    <tr>\n",
       "      <th>103</th>\n",
       "      <td>ID_UL9WZBMCZ441</td>\n",
       "      <td>2022-01-12 10:43:23</td>\n",
       "      <td>15.98</td>\n",
       "      <td>9.38</td>\n",
       "      <td>22.741502</td>\n",
       "      <td>NaN</td>\n",
       "      <td>1</td>\n",
       "      <td>10</td>\n",
       "      <td>1</td>\n",
       "      <td>Wed</td>\n",
       "    </tr>\n",
       "    <tr>\n",
       "      <th>104</th>\n",
       "      <td>ID_R4X8Q5NOZ5B9</td>\n",
       "      <td>2022-01-19 14:26:38</td>\n",
       "      <td>28.87</td>\n",
       "      <td>22.87</td>\n",
       "      <td>32.159363</td>\n",
       "      <td>NaN</td>\n",
       "      <td>0</td>\n",
       "      <td>14</td>\n",
       "      <td>1</td>\n",
       "      <td>Wed</td>\n",
       "    </tr>\n",
       "    <tr>\n",
       "      <th>148</th>\n",
       "      <td>ID_ZS45U91YVMV4</td>\n",
       "      <td>2021-11-24 13:18:42</td>\n",
       "      <td>35.15</td>\n",
       "      <td>43.62</td>\n",
       "      <td>28.183206</td>\n",
       "      <td>NaN</td>\n",
       "      <td>0</td>\n",
       "      <td>13</td>\n",
       "      <td>11</td>\n",
       "      <td>Wed</td>\n",
       "    </tr>\n",
       "    <tr>\n",
       "      <th>171</th>\n",
       "      <td>ID_1NSWONBPX1D9</td>\n",
       "      <td>2022-01-12 10:27:19</td>\n",
       "      <td>25.12</td>\n",
       "      <td>23.05</td>\n",
       "      <td>22.741502</td>\n",
       "      <td>NaN</td>\n",
       "      <td>0</td>\n",
       "      <td>10</td>\n",
       "      <td>1</td>\n",
       "      <td>Wed</td>\n",
       "    </tr>\n",
       "    <tr>\n",
       "      <th>397</th>\n",
       "      <td>ID_BBVZHETSV936</td>\n",
       "      <td>2022-01-12 19:25:26</td>\n",
       "      <td>36.87</td>\n",
       "      <td>42.18</td>\n",
       "      <td>26.007755</td>\n",
       "      <td>NaN</td>\n",
       "      <td>0</td>\n",
       "      <td>19</td>\n",
       "      <td>1</td>\n",
       "      <td>Wed</td>\n",
       "    </tr>\n",
       "  </tbody>\n",
       "</table>\n",
       "</div>"
      ],
      "text/plain": [
       "                  ID            Datetime  Sensor1_PM2.5  Sensor2_PM2.5  \\\n",
       "103  ID_UL9WZBMCZ441 2022-01-12 10:43:23          15.98           9.38   \n",
       "104  ID_R4X8Q5NOZ5B9 2022-01-19 14:26:38          28.87          22.87   \n",
       "148  ID_ZS45U91YVMV4 2021-11-24 13:18:42          35.15          43.62   \n",
       "171  ID_1NSWONBPX1D9 2022-01-12 10:27:19          25.12          23.05   \n",
       "397  ID_BBVZHETSV936 2022-01-12 19:25:26          36.87          42.18   \n",
       "\n",
       "     Temperature  Relative_Humidity  Offset_fault  Hour  Month Day of Week  \n",
       "103    22.741502                NaN             1    10      1         Wed  \n",
       "104    32.159363                NaN             0    14      1         Wed  \n",
       "148    28.183206                NaN             0    13     11         Wed  \n",
       "171    22.741502                NaN             0    10      1         Wed  \n",
       "397    26.007755                NaN             0    19      1         Wed  "
      ]
     },
     "execution_count": 218,
     "metadata": {},
     "output_type": "execute_result"
    }
   ],
   "source": [
    "missing_values_df.head()"
   ]
  },
  {
   "cell_type": "code",
   "execution_count": 219,
   "id": "6d195d76",
   "metadata": {},
   "outputs": [
    {
     "name": "stderr",
     "output_type": "stream",
     "text": [
      "<ipython-input-219-6bc82f553586>:1: SettingWithCopyWarning: \n",
      "A value is trying to be set on a copy of a slice from a DataFrame.\n",
      "Try using .loc[row_indexer,col_indexer] = value instead\n",
      "\n",
      "See the caveats in the documentation: https://pandas.pydata.org/pandas-docs/stable/user_guide/indexing.html#returning-a-view-versus-a-copy\n",
      "  missing_values_df['Relative_Humidity'] = gotcha_hum\n"
     ]
    }
   ],
   "source": [
    "missing_values_df['Relative_Humidity'] = gotcha_hum"
   ]
  },
  {
   "cell_type": "code",
   "execution_count": 236,
   "id": "e4d89318",
   "metadata": {},
   "outputs": [
    {
     "data": {
      "text/html": [
       "<div>\n",
       "<style scoped>\n",
       "    .dataframe tbody tr th:only-of-type {\n",
       "        vertical-align: middle;\n",
       "    }\n",
       "\n",
       "    .dataframe tbody tr th {\n",
       "        vertical-align: top;\n",
       "    }\n",
       "\n",
       "    .dataframe thead th {\n",
       "        text-align: right;\n",
       "    }\n",
       "</style>\n",
       "<table border=\"1\" class=\"dataframe\">\n",
       "  <thead>\n",
       "    <tr style=\"text-align: right;\">\n",
       "      <th></th>\n",
       "      <th>ID</th>\n",
       "      <th>Datetime</th>\n",
       "      <th>Sensor1_PM2.5</th>\n",
       "      <th>Sensor2_PM2.5</th>\n",
       "      <th>Temperature</th>\n",
       "      <th>Relative_Humidity</th>\n",
       "      <th>Offset_fault</th>\n",
       "      <th>Hour</th>\n",
       "      <th>Month</th>\n",
       "      <th>Day of Week</th>\n",
       "    </tr>\n",
       "  </thead>\n",
       "  <tbody>\n",
       "    <tr>\n",
       "      <th>103</th>\n",
       "      <td>ID_UL9WZBMCZ441</td>\n",
       "      <td>2022-01-12 10:43:23</td>\n",
       "      <td>15.98</td>\n",
       "      <td>9.38</td>\n",
       "      <td>22.741502</td>\n",
       "      <td>75.553360</td>\n",
       "      <td>1</td>\n",
       "      <td>10</td>\n",
       "      <td>1</td>\n",
       "      <td>Wed</td>\n",
       "    </tr>\n",
       "    <tr>\n",
       "      <th>104</th>\n",
       "      <td>ID_R4X8Q5NOZ5B9</td>\n",
       "      <td>2022-01-19 14:26:38</td>\n",
       "      <td>28.87</td>\n",
       "      <td>22.87</td>\n",
       "      <td>32.159363</td>\n",
       "      <td>39.836653</td>\n",
       "      <td>0</td>\n",
       "      <td>14</td>\n",
       "      <td>1</td>\n",
       "      <td>Wed</td>\n",
       "    </tr>\n",
       "    <tr>\n",
       "      <th>148</th>\n",
       "      <td>ID_ZS45U91YVMV4</td>\n",
       "      <td>2021-11-24 13:18:42</td>\n",
       "      <td>35.15</td>\n",
       "      <td>43.62</td>\n",
       "      <td>28.183206</td>\n",
       "      <td>61.061069</td>\n",
       "      <td>0</td>\n",
       "      <td>13</td>\n",
       "      <td>11</td>\n",
       "      <td>Wed</td>\n",
       "    </tr>\n",
       "    <tr>\n",
       "      <th>171</th>\n",
       "      <td>ID_1NSWONBPX1D9</td>\n",
       "      <td>2022-01-12 10:27:19</td>\n",
       "      <td>25.12</td>\n",
       "      <td>23.05</td>\n",
       "      <td>22.741502</td>\n",
       "      <td>75.553360</td>\n",
       "      <td>0</td>\n",
       "      <td>10</td>\n",
       "      <td>1</td>\n",
       "      <td>Wed</td>\n",
       "    </tr>\n",
       "    <tr>\n",
       "      <th>397</th>\n",
       "      <td>ID_BBVZHETSV936</td>\n",
       "      <td>2022-01-12 19:25:26</td>\n",
       "      <td>36.87</td>\n",
       "      <td>42.18</td>\n",
       "      <td>26.007755</td>\n",
       "      <td>64.693878</td>\n",
       "      <td>0</td>\n",
       "      <td>19</td>\n",
       "      <td>1</td>\n",
       "      <td>Wed</td>\n",
       "    </tr>\n",
       "  </tbody>\n",
       "</table>\n",
       "</div>"
      ],
      "text/plain": [
       "                  ID            Datetime  Sensor1_PM2.5  Sensor2_PM2.5  \\\n",
       "103  ID_UL9WZBMCZ441 2022-01-12 10:43:23          15.98           9.38   \n",
       "104  ID_R4X8Q5NOZ5B9 2022-01-19 14:26:38          28.87          22.87   \n",
       "148  ID_ZS45U91YVMV4 2021-11-24 13:18:42          35.15          43.62   \n",
       "171  ID_1NSWONBPX1D9 2022-01-12 10:27:19          25.12          23.05   \n",
       "397  ID_BBVZHETSV936 2022-01-12 19:25:26          36.87          42.18   \n",
       "\n",
       "     Temperature  Relative_Humidity  Offset_fault  Hour  Month Day of Week  \n",
       "103    22.741502          75.553360             1    10      1         Wed  \n",
       "104    32.159363          39.836653             0    14      1         Wed  \n",
       "148    28.183206          61.061069             0    13     11         Wed  \n",
       "171    22.741502          75.553360             0    10      1         Wed  \n",
       "397    26.007755          64.693878             0    19      1         Wed  "
      ]
     },
     "execution_count": 236,
     "metadata": {},
     "output_type": "execute_result"
    }
   ],
   "source": [
    "missing_values_df.head()"
   ]
  },
  {
   "cell_type": "code",
   "execution_count": 221,
   "id": "655dd05c",
   "metadata": {},
   "outputs": [
    {
     "data": {
      "text/html": [
       "<div>\n",
       "<style scoped>\n",
       "    .dataframe tbody tr th:only-of-type {\n",
       "        vertical-align: middle;\n",
       "    }\n",
       "\n",
       "    .dataframe tbody tr th {\n",
       "        vertical-align: top;\n",
       "    }\n",
       "\n",
       "    .dataframe thead th {\n",
       "        text-align: right;\n",
       "    }\n",
       "</style>\n",
       "<table border=\"1\" class=\"dataframe\">\n",
       "  <thead>\n",
       "    <tr style=\"text-align: right;\">\n",
       "      <th></th>\n",
       "      <th>Sensor1_PM2.5</th>\n",
       "      <th>Sensor2_PM2.5</th>\n",
       "      <th>Temperature</th>\n",
       "      <th>Relative_Humidity</th>\n",
       "      <th>Offset_fault</th>\n",
       "      <th>Hour</th>\n",
       "      <th>Month</th>\n",
       "    </tr>\n",
       "  </thead>\n",
       "  <tbody>\n",
       "    <tr>\n",
       "      <th>Sensor1_PM2.5</th>\n",
       "      <td>1.000000</td>\n",
       "      <td>0.940203</td>\n",
       "      <td>-0.350774</td>\n",
       "      <td>0.347922</td>\n",
       "      <td>-0.140658</td>\n",
       "      <td>-0.150085</td>\n",
       "      <td>-0.052277</td>\n",
       "    </tr>\n",
       "    <tr>\n",
       "      <th>Sensor2_PM2.5</th>\n",
       "      <td>0.940203</td>\n",
       "      <td>1.000000</td>\n",
       "      <td>-0.318371</td>\n",
       "      <td>0.314059</td>\n",
       "      <td>-0.368450</td>\n",
       "      <td>-0.144620</td>\n",
       "      <td>-0.054748</td>\n",
       "    </tr>\n",
       "    <tr>\n",
       "      <th>Temperature</th>\n",
       "      <td>-0.350774</td>\n",
       "      <td>-0.318371</td>\n",
       "      <td>1.000000</td>\n",
       "      <td>-0.964198</td>\n",
       "      <td>-0.015894</td>\n",
       "      <td>-0.148966</td>\n",
       "      <td>-0.013638</td>\n",
       "    </tr>\n",
       "    <tr>\n",
       "      <th>Relative_Humidity</th>\n",
       "      <td>0.347922</td>\n",
       "      <td>0.314059</td>\n",
       "      <td>-0.964198</td>\n",
       "      <td>1.000000</td>\n",
       "      <td>0.019349</td>\n",
       "      <td>0.045815</td>\n",
       "      <td>0.126655</td>\n",
       "    </tr>\n",
       "    <tr>\n",
       "      <th>Offset_fault</th>\n",
       "      <td>-0.140658</td>\n",
       "      <td>-0.368450</td>\n",
       "      <td>-0.015894</td>\n",
       "      <td>0.019349</td>\n",
       "      <td>1.000000</td>\n",
       "      <td>0.024996</td>\n",
       "      <td>0.041219</td>\n",
       "    </tr>\n",
       "    <tr>\n",
       "      <th>Hour</th>\n",
       "      <td>-0.150085</td>\n",
       "      <td>-0.144620</td>\n",
       "      <td>-0.148966</td>\n",
       "      <td>0.045815</td>\n",
       "      <td>0.024996</td>\n",
       "      <td>1.000000</td>\n",
       "      <td>0.232206</td>\n",
       "    </tr>\n",
       "    <tr>\n",
       "      <th>Month</th>\n",
       "      <td>-0.052277</td>\n",
       "      <td>-0.054748</td>\n",
       "      <td>-0.013638</td>\n",
       "      <td>0.126655</td>\n",
       "      <td>0.041219</td>\n",
       "      <td>0.232206</td>\n",
       "      <td>1.000000</td>\n",
       "    </tr>\n",
       "  </tbody>\n",
       "</table>\n",
       "</div>"
      ],
      "text/plain": [
       "                   Sensor1_PM2.5  Sensor2_PM2.5  Temperature  \\\n",
       "Sensor1_PM2.5           1.000000       0.940203    -0.350774   \n",
       "Sensor2_PM2.5           0.940203       1.000000    -0.318371   \n",
       "Temperature            -0.350774      -0.318371     1.000000   \n",
       "Relative_Humidity       0.347922       0.314059    -0.964198   \n",
       "Offset_fault           -0.140658      -0.368450    -0.015894   \n",
       "Hour                   -0.150085      -0.144620    -0.148966   \n",
       "Month                  -0.052277      -0.054748    -0.013638   \n",
       "\n",
       "                   Relative_Humidity  Offset_fault      Hour     Month  \n",
       "Sensor1_PM2.5               0.347922     -0.140658 -0.150085 -0.052277  \n",
       "Sensor2_PM2.5               0.314059     -0.368450 -0.144620 -0.054748  \n",
       "Temperature                -0.964198     -0.015894 -0.148966 -0.013638  \n",
       "Relative_Humidity           1.000000      0.019349  0.045815  0.126655  \n",
       "Offset_fault                0.019349      1.000000  0.024996  0.041219  \n",
       "Hour                        0.045815      0.024996  1.000000  0.232206  \n",
       "Month                       0.126655      0.041219  0.232206  1.000000  "
      ]
     },
     "execution_count": 221,
     "metadata": {},
     "output_type": "execute_result"
    }
   ],
   "source": [
    "missing_values_df.corr()"
   ]
  },
  {
   "cell_type": "code",
   "execution_count": 223,
   "id": "0f28aec5",
   "metadata": {},
   "outputs": [
    {
     "data": {
      "text/plain": [
       "ID                   0\n",
       "Datetime             0\n",
       "Sensor1_PM2.5        0\n",
       "Sensor2_PM2.5        0\n",
       "Temperature          0\n",
       "Relative_Humidity    0\n",
       "Offset_fault         0\n",
       "Hour                 0\n",
       "Month                0\n",
       "Day of Week          0\n",
       "dtype: int64"
      ]
     },
     "execution_count": 223,
     "metadata": {},
     "output_type": "execute_result"
    }
   ],
   "source": [
    "missing_values_df.isna().sum()"
   ]
  },
  {
   "cell_type": "code",
   "execution_count": 230,
   "id": "49c1b95d",
   "metadata": {},
   "outputs": [],
   "source": [
    "month_keys = list(month.keys())"
   ]
  },
  {
   "cell_type": "code",
   "execution_count": 232,
   "id": "0a2f099f",
   "metadata": {},
   "outputs": [
    {
     "data": {
      "text/plain": [
       "3549"
      ]
     },
     "execution_count": 232,
     "metadata": {},
     "output_type": "execute_result"
    }
   ],
   "source": [
    "len(month_keys)"
   ]
  },
  {
   "cell_type": "code",
   "execution_count": 238,
   "id": "3302a7a1",
   "metadata": {},
   "outputs": [
    {
     "data": {
      "text/plain": [
       "nan"
      ]
     },
     "execution_count": 238,
     "metadata": {},
     "output_type": "execute_result"
    }
   ],
   "source": [
    "read_df.iloc[103]['Temperature']"
   ]
  },
  {
   "cell_type": "code",
   "execution_count": 239,
   "id": "f3e0e130",
   "metadata": {},
   "outputs": [
    {
     "data": {
      "text/plain": [
       "22.74150197628458"
      ]
     },
     "execution_count": 239,
     "metadata": {},
     "output_type": "execute_result"
    }
   ],
   "source": [
    "missing_values_df.loc[103]['Temperature']"
   ]
  },
  {
   "cell_type": "code",
   "execution_count": 264,
   "id": "2d6a1c35",
   "metadata": {},
   "outputs": [],
   "source": [
    "for i in month_keys:\n",
    "    read_df.loc[i,'Temperature'] = missing_values_df.loc[i,'Temperature']\n",
    "    read_df.loc[i,'Relative_Humidity'] = missing_values_df.loc[i,'Relative_Humidity']"
   ]
  },
  {
   "cell_type": "code",
   "execution_count": 268,
   "id": "e277f8e7",
   "metadata": {},
   "outputs": [
    {
     "data": {
      "text/plain": [
       "ID                       ID_BBVZHETSV936\n",
       "Datetime             2022-01-12 19:25:26\n",
       "Sensor1_PM2.5                      36.87\n",
       "Sensor2_PM2.5                      42.18\n",
       "Temperature                    26.007755\n",
       "Relative_Humidity              64.693878\n",
       "Offset_fault                           0\n",
       "Hour                                  19\n",
       "Month                                  1\n",
       "Day of Week                          Wed\n",
       "Name: 397, dtype: object"
      ]
     },
     "execution_count": 268,
     "metadata": {},
     "output_type": "execute_result"
    }
   ],
   "source": [
    "read_df.iloc[397]"
   ]
  },
  {
   "cell_type": "code",
   "execution_count": 269,
   "id": "d239e18d",
   "metadata": {},
   "outputs": [
    {
     "data": {
      "text/plain": [
       "ID                       ID_BBVZHETSV936\n",
       "Datetime             2022-01-12 19:25:26\n",
       "Sensor1_PM2.5                      36.87\n",
       "Sensor2_PM2.5                      42.18\n",
       "Temperature                    26.007755\n",
       "Relative_Humidity              64.693878\n",
       "Offset_fault                           0\n",
       "Hour                                  19\n",
       "Month                                  1\n",
       "Day of Week                          Wed\n",
       "Name: 397, dtype: object"
      ]
     },
     "execution_count": 269,
     "metadata": {},
     "output_type": "execute_result"
    }
   ],
   "source": [
    "missing_values_df.loc[397]"
   ]
  },
  {
   "cell_type": "code",
   "execution_count": 270,
   "id": "af4a2eb6",
   "metadata": {},
   "outputs": [
    {
     "data": {
      "text/plain": [
       "ID                      0\n",
       "Datetime                0\n",
       "Sensor1_PM2.5        3614\n",
       "Sensor2_PM2.5        3614\n",
       "Temperature             0\n",
       "Relative_Humidity       0\n",
       "Offset_fault            0\n",
       "Hour                    0\n",
       "Month                   0\n",
       "Day of Week             0\n",
       "dtype: int64"
      ]
     },
     "execution_count": 270,
     "metadata": {},
     "output_type": "execute_result"
    }
   ],
   "source": [
    "read_df.isna().sum()"
   ]
  },
  {
   "cell_type": "code",
   "execution_count": 273,
   "id": "807c94e8",
   "metadata": {},
   "outputs": [],
   "source": [
    "missing_values2_df = read_df[read_df['Sensor1_PM2.5'].isna()]"
   ]
  },
  {
   "cell_type": "code",
   "execution_count": 274,
   "id": "b8bfe1fd",
   "metadata": {},
   "outputs": [
    {
     "data": {
      "text/html": [
       "<div>\n",
       "<style scoped>\n",
       "    .dataframe tbody tr th:only-of-type {\n",
       "        vertical-align: middle;\n",
       "    }\n",
       "\n",
       "    .dataframe tbody tr th {\n",
       "        vertical-align: top;\n",
       "    }\n",
       "\n",
       "    .dataframe thead th {\n",
       "        text-align: right;\n",
       "    }\n",
       "</style>\n",
       "<table border=\"1\" class=\"dataframe\">\n",
       "  <thead>\n",
       "    <tr style=\"text-align: right;\">\n",
       "      <th></th>\n",
       "      <th>ID</th>\n",
       "      <th>Datetime</th>\n",
       "      <th>Sensor1_PM2.5</th>\n",
       "      <th>Sensor2_PM2.5</th>\n",
       "      <th>Temperature</th>\n",
       "      <th>Relative_Humidity</th>\n",
       "      <th>Offset_fault</th>\n",
       "      <th>Hour</th>\n",
       "      <th>Month</th>\n",
       "      <th>Day of Week</th>\n",
       "    </tr>\n",
       "  </thead>\n",
       "  <tbody>\n",
       "    <tr>\n",
       "      <th>124</th>\n",
       "      <td>ID_JHU4A57PSE6B</td>\n",
       "      <td>2021-10-19 02:05:22</td>\n",
       "      <td>NaN</td>\n",
       "      <td>NaN</td>\n",
       "      <td>20.3</td>\n",
       "      <td>91.0</td>\n",
       "      <td>1</td>\n",
       "      <td>2</td>\n",
       "      <td>10</td>\n",
       "      <td>Tue</td>\n",
       "    </tr>\n",
       "    <tr>\n",
       "      <th>169</th>\n",
       "      <td>ID_E5Y4OY335FBI</td>\n",
       "      <td>2021-10-21 13:26:12</td>\n",
       "      <td>NaN</td>\n",
       "      <td>NaN</td>\n",
       "      <td>26.8</td>\n",
       "      <td>68.0</td>\n",
       "      <td>0</td>\n",
       "      <td>13</td>\n",
       "      <td>10</td>\n",
       "      <td>Thu</td>\n",
       "    </tr>\n",
       "    <tr>\n",
       "      <th>205</th>\n",
       "      <td>ID_69ZG7VEXU4L5</td>\n",
       "      <td>2021-10-19 04:25:11</td>\n",
       "      <td>NaN</td>\n",
       "      <td>NaN</td>\n",
       "      <td>20.1</td>\n",
       "      <td>91.0</td>\n",
       "      <td>1</td>\n",
       "      <td>4</td>\n",
       "      <td>10</td>\n",
       "      <td>Tue</td>\n",
       "    </tr>\n",
       "    <tr>\n",
       "      <th>249</th>\n",
       "      <td>ID_YOIOO23YGK5J</td>\n",
       "      <td>2021-10-19 15:34:54</td>\n",
       "      <td>NaN</td>\n",
       "      <td>NaN</td>\n",
       "      <td>28.3</td>\n",
       "      <td>62.0</td>\n",
       "      <td>1</td>\n",
       "      <td>15</td>\n",
       "      <td>10</td>\n",
       "      <td>Tue</td>\n",
       "    </tr>\n",
       "    <tr>\n",
       "      <th>474</th>\n",
       "      <td>ID_22CRSCI647RC</td>\n",
       "      <td>2021-10-21 08:26:31</td>\n",
       "      <td>NaN</td>\n",
       "      <td>NaN</td>\n",
       "      <td>19.9</td>\n",
       "      <td>97.0</td>\n",
       "      <td>0</td>\n",
       "      <td>8</td>\n",
       "      <td>10</td>\n",
       "      <td>Thu</td>\n",
       "    </tr>\n",
       "  </tbody>\n",
       "</table>\n",
       "</div>"
      ],
      "text/plain": [
       "                  ID            Datetime  Sensor1_PM2.5  Sensor2_PM2.5  \\\n",
       "124  ID_JHU4A57PSE6B 2021-10-19 02:05:22            NaN            NaN   \n",
       "169  ID_E5Y4OY335FBI 2021-10-21 13:26:12            NaN            NaN   \n",
       "205  ID_69ZG7VEXU4L5 2021-10-19 04:25:11            NaN            NaN   \n",
       "249  ID_YOIOO23YGK5J 2021-10-19 15:34:54            NaN            NaN   \n",
       "474  ID_22CRSCI647RC 2021-10-21 08:26:31            NaN            NaN   \n",
       "\n",
       "     Temperature  Relative_Humidity  Offset_fault  Hour  Month Day of Week  \n",
       "124         20.3               91.0             1     2     10         Tue  \n",
       "169         26.8               68.0             0    13     10         Thu  \n",
       "205         20.1               91.0             1     4     10         Tue  \n",
       "249         28.3               62.0             1    15     10         Tue  \n",
       "474         19.9               97.0             0     8     10         Thu  "
      ]
     },
     "execution_count": 274,
     "metadata": {},
     "output_type": "execute_result"
    }
   ],
   "source": [
    "missing_values2_df.head()"
   ]
  },
  {
   "cell_type": "code",
   "execution_count": 278,
   "id": "3b2ef403",
   "metadata": {},
   "outputs": [],
   "source": [
    "hour = dict(missing_values2_df[\"Hour\"])\n",
    "hour_list = list(hour.values())\n",
    "day = dict(missing_values2_df[\"Day of Week\"])\n",
    "day_list = list(day.values())\n",
    "month = dict(missing_values2_df[\"Month\"])\n",
    "month_list = list(month.values())\n",
    "    \n",
    "gotcha_sensor1 = []\n",
    "gotcha_sensor2 = []"
   ]
  },
  {
   "cell_type": "code",
   "execution_count": 280,
   "id": "9fcecf63",
   "metadata": {},
   "outputs": [],
   "source": [
    "for i in range(0,len(day_list)):\n",
    "    gotcha_sensor1.append(mean_values.loc[month_list[i],day_list[i],hour_list[i]]['Sensor1_PM2.5'])"
   ]
  },
  {
   "cell_type": "code",
   "execution_count": 281,
   "id": "96a40644",
   "metadata": {},
   "outputs": [],
   "source": [
    "for i in range(0,len(day_list)):\n",
    "    gotcha_sensor2.append(mean_values.loc[month_list[i],day_list[i],hour_list[i]]['Sensor2_PM2.5'])"
   ]
  },
  {
   "cell_type": "code",
   "execution_count": 283,
   "id": "e5d63e27",
   "metadata": {},
   "outputs": [
    {
     "name": "stderr",
     "output_type": "stream",
     "text": [
      "<ipython-input-283-7cc5d2a0e6a0>:1: SettingWithCopyWarning: \n",
      "A value is trying to be set on a copy of a slice from a DataFrame.\n",
      "Try using .loc[row_indexer,col_indexer] = value instead\n",
      "\n",
      "See the caveats in the documentation: https://pandas.pydata.org/pandas-docs/stable/user_guide/indexing.html#returning-a-view-versus-a-copy\n",
      "  missing_values2_df['Sensor1_PM2.5'] = gotcha_sensor1\n"
     ]
    }
   ],
   "source": [
    "missing_values2_df['Sensor1_PM2.5'] = gotcha_sensor1"
   ]
  },
  {
   "cell_type": "code",
   "execution_count": 284,
   "id": "cd7bd6f5",
   "metadata": {},
   "outputs": [
    {
     "name": "stderr",
     "output_type": "stream",
     "text": [
      "<ipython-input-284-4af212e0dac1>:1: SettingWithCopyWarning: \n",
      "A value is trying to be set on a copy of a slice from a DataFrame.\n",
      "Try using .loc[row_indexer,col_indexer] = value instead\n",
      "\n",
      "See the caveats in the documentation: https://pandas.pydata.org/pandas-docs/stable/user_guide/indexing.html#returning-a-view-versus-a-copy\n",
      "  missing_values2_df['Sensor2_PM2.5'] = gotcha_sensor2\n"
     ]
    }
   ],
   "source": [
    "missing_values2_df['Sensor2_PM2.5'] = gotcha_sensor2\n"
   ]
  },
  {
   "cell_type": "code",
   "execution_count": 285,
   "id": "c34f4011",
   "metadata": {},
   "outputs": [
    {
     "data": {
      "text/html": [
       "<div>\n",
       "<style scoped>\n",
       "    .dataframe tbody tr th:only-of-type {\n",
       "        vertical-align: middle;\n",
       "    }\n",
       "\n",
       "    .dataframe tbody tr th {\n",
       "        vertical-align: top;\n",
       "    }\n",
       "\n",
       "    .dataframe thead th {\n",
       "        text-align: right;\n",
       "    }\n",
       "</style>\n",
       "<table border=\"1\" class=\"dataframe\">\n",
       "  <thead>\n",
       "    <tr style=\"text-align: right;\">\n",
       "      <th></th>\n",
       "      <th>ID</th>\n",
       "      <th>Datetime</th>\n",
       "      <th>Sensor1_PM2.5</th>\n",
       "      <th>Sensor2_PM2.5</th>\n",
       "      <th>Temperature</th>\n",
       "      <th>Relative_Humidity</th>\n",
       "      <th>Offset_fault</th>\n",
       "      <th>Hour</th>\n",
       "      <th>Month</th>\n",
       "      <th>Day of Week</th>\n",
       "    </tr>\n",
       "  </thead>\n",
       "  <tbody>\n",
       "    <tr>\n",
       "      <th>124</th>\n",
       "      <td>ID_JHU4A57PSE6B</td>\n",
       "      <td>2021-10-19 02:05:22</td>\n",
       "      <td>38.813302</td>\n",
       "      <td>36.601814</td>\n",
       "      <td>20.3</td>\n",
       "      <td>91.0</td>\n",
       "      <td>1</td>\n",
       "      <td>2</td>\n",
       "      <td>10</td>\n",
       "      <td>Tue</td>\n",
       "    </tr>\n",
       "    <tr>\n",
       "      <th>169</th>\n",
       "      <td>ID_E5Y4OY335FBI</td>\n",
       "      <td>2021-10-21 13:26:12</td>\n",
       "      <td>19.117536</td>\n",
       "      <td>17.055604</td>\n",
       "      <td>26.8</td>\n",
       "      <td>68.0</td>\n",
       "      <td>0</td>\n",
       "      <td>13</td>\n",
       "      <td>10</td>\n",
       "      <td>Thu</td>\n",
       "    </tr>\n",
       "    <tr>\n",
       "      <th>205</th>\n",
       "      <td>ID_69ZG7VEXU4L5</td>\n",
       "      <td>2021-10-19 04:25:11</td>\n",
       "      <td>40.375305</td>\n",
       "      <td>38.525775</td>\n",
       "      <td>20.1</td>\n",
       "      <td>91.0</td>\n",
       "      <td>1</td>\n",
       "      <td>4</td>\n",
       "      <td>10</td>\n",
       "      <td>Tue</td>\n",
       "    </tr>\n",
       "    <tr>\n",
       "      <th>249</th>\n",
       "      <td>ID_YOIOO23YGK5J</td>\n",
       "      <td>2021-10-19 15:34:54</td>\n",
       "      <td>16.707033</td>\n",
       "      <td>15.875455</td>\n",
       "      <td>28.3</td>\n",
       "      <td>62.0</td>\n",
       "      <td>1</td>\n",
       "      <td>15</td>\n",
       "      <td>10</td>\n",
       "      <td>Tue</td>\n",
       "    </tr>\n",
       "    <tr>\n",
       "      <th>474</th>\n",
       "      <td>ID_22CRSCI647RC</td>\n",
       "      <td>2021-10-21 08:26:31</td>\n",
       "      <td>45.661498</td>\n",
       "      <td>41.119275</td>\n",
       "      <td>19.9</td>\n",
       "      <td>97.0</td>\n",
       "      <td>0</td>\n",
       "      <td>8</td>\n",
       "      <td>10</td>\n",
       "      <td>Thu</td>\n",
       "    </tr>\n",
       "    <tr>\n",
       "      <th>...</th>\n",
       "      <td>...</td>\n",
       "      <td>...</td>\n",
       "      <td>...</td>\n",
       "      <td>...</td>\n",
       "      <td>...</td>\n",
       "      <td>...</td>\n",
       "      <td>...</td>\n",
       "      <td>...</td>\n",
       "      <td>...</td>\n",
       "      <td>...</td>\n",
       "    </tr>\n",
       "    <tr>\n",
       "      <th>296656</th>\n",
       "      <td>ID_227RXD7MY77A</td>\n",
       "      <td>2021-10-20 15:24:50</td>\n",
       "      <td>18.894524</td>\n",
       "      <td>16.760667</td>\n",
       "      <td>27.9</td>\n",
       "      <td>64.0</td>\n",
       "      <td>0</td>\n",
       "      <td>15</td>\n",
       "      <td>10</td>\n",
       "      <td>Wed</td>\n",
       "    </tr>\n",
       "    <tr>\n",
       "      <th>296667</th>\n",
       "      <td>ID_NPPHU2LGYIXL</td>\n",
       "      <td>2021-10-21 06:46:15</td>\n",
       "      <td>26.950461</td>\n",
       "      <td>24.472995</td>\n",
       "      <td>19.5</td>\n",
       "      <td>95.0</td>\n",
       "      <td>0</td>\n",
       "      <td>6</td>\n",
       "      <td>10</td>\n",
       "      <td>Thu</td>\n",
       "    </tr>\n",
       "    <tr>\n",
       "      <th>296791</th>\n",
       "      <td>ID_LXIAWFUWKPZL</td>\n",
       "      <td>2021-10-20 12:47:13</td>\n",
       "      <td>15.824921</td>\n",
       "      <td>14.189005</td>\n",
       "      <td>24.4</td>\n",
       "      <td>82.0</td>\n",
       "      <td>0</td>\n",
       "      <td>12</td>\n",
       "      <td>10</td>\n",
       "      <td>Wed</td>\n",
       "    </tr>\n",
       "    <tr>\n",
       "      <th>296938</th>\n",
       "      <td>ID_VJEDDJ3XHWRF</td>\n",
       "      <td>2021-10-18 20:29:24</td>\n",
       "      <td>49.136287</td>\n",
       "      <td>46.907277</td>\n",
       "      <td>22.1</td>\n",
       "      <td>79.0</td>\n",
       "      <td>1</td>\n",
       "      <td>20</td>\n",
       "      <td>10</td>\n",
       "      <td>Mon</td>\n",
       "    </tr>\n",
       "    <tr>\n",
       "      <th>296976</th>\n",
       "      <td>ID_VQUAT21ZCCTS</td>\n",
       "      <td>2021-10-21 08:55:29</td>\n",
       "      <td>45.661498</td>\n",
       "      <td>41.119275</td>\n",
       "      <td>19.9</td>\n",
       "      <td>97.0</td>\n",
       "      <td>0</td>\n",
       "      <td>8</td>\n",
       "      <td>10</td>\n",
       "      <td>Thu</td>\n",
       "    </tr>\n",
       "  </tbody>\n",
       "</table>\n",
       "<p>3614 rows × 10 columns</p>\n",
       "</div>"
      ],
      "text/plain": [
       "                     ID            Datetime  Sensor1_PM2.5  Sensor2_PM2.5  \\\n",
       "124     ID_JHU4A57PSE6B 2021-10-19 02:05:22      38.813302      36.601814   \n",
       "169     ID_E5Y4OY335FBI 2021-10-21 13:26:12      19.117536      17.055604   \n",
       "205     ID_69ZG7VEXU4L5 2021-10-19 04:25:11      40.375305      38.525775   \n",
       "249     ID_YOIOO23YGK5J 2021-10-19 15:34:54      16.707033      15.875455   \n",
       "474     ID_22CRSCI647RC 2021-10-21 08:26:31      45.661498      41.119275   \n",
       "...                 ...                 ...            ...            ...   \n",
       "296656  ID_227RXD7MY77A 2021-10-20 15:24:50      18.894524      16.760667   \n",
       "296667  ID_NPPHU2LGYIXL 2021-10-21 06:46:15      26.950461      24.472995   \n",
       "296791  ID_LXIAWFUWKPZL 2021-10-20 12:47:13      15.824921      14.189005   \n",
       "296938  ID_VJEDDJ3XHWRF 2021-10-18 20:29:24      49.136287      46.907277   \n",
       "296976  ID_VQUAT21ZCCTS 2021-10-21 08:55:29      45.661498      41.119275   \n",
       "\n",
       "        Temperature  Relative_Humidity  Offset_fault  Hour  Month Day of Week  \n",
       "124            20.3               91.0             1     2     10         Tue  \n",
       "169            26.8               68.0             0    13     10         Thu  \n",
       "205            20.1               91.0             1     4     10         Tue  \n",
       "249            28.3               62.0             1    15     10         Tue  \n",
       "474            19.9               97.0             0     8     10         Thu  \n",
       "...             ...                ...           ...   ...    ...         ...  \n",
       "296656         27.9               64.0             0    15     10         Wed  \n",
       "296667         19.5               95.0             0     6     10         Thu  \n",
       "296791         24.4               82.0             0    12     10         Wed  \n",
       "296938         22.1               79.0             1    20     10         Mon  \n",
       "296976         19.9               97.0             0     8     10         Thu  \n",
       "\n",
       "[3614 rows x 10 columns]"
      ]
     },
     "execution_count": 285,
     "metadata": {},
     "output_type": "execute_result"
    }
   ],
   "source": [
    "missing_values2_df"
   ]
  },
  {
   "cell_type": "code",
   "execution_count": 288,
   "id": "ab7803c8",
   "metadata": {},
   "outputs": [],
   "source": [
    "month_keys = list(month.keys())"
   ]
  },
  {
   "cell_type": "code",
   "execution_count": 292,
   "id": "ce83a009",
   "metadata": {},
   "outputs": [],
   "source": [
    "for i in month_keys:\n",
    "    read_df.loc[i,'Sensor1_PM2.5'] = missing_values2_df.loc[i,'Sensor1_PM2.5']\n",
    "    read_df.loc[i,'Sensor2_PM2.5'] = missing_values2_df.loc[i,'Sensor2_PM2.5']"
   ]
  },
  {
   "cell_type": "code",
   "execution_count": 294,
   "id": "25b693c2",
   "metadata": {},
   "outputs": [
    {
     "data": {
      "text/plain": [
       "ID                       ID_LXIAWFUWKPZL\n",
       "Datetime             2021-10-20 12:47:13\n",
       "Sensor1_PM2.5                  15.824921\n",
       "Sensor2_PM2.5                  14.189005\n",
       "Temperature                         24.4\n",
       "Relative_Humidity                   82.0\n",
       "Offset_fault                           0\n",
       "Hour                                  12\n",
       "Month                                 10\n",
       "Day of Week                          Wed\n",
       "Name: 296791, dtype: object"
      ]
     },
     "execution_count": 294,
     "metadata": {},
     "output_type": "execute_result"
    }
   ],
   "source": [
    "read_df.iloc[296791]"
   ]
  },
  {
   "cell_type": "code",
   "execution_count": 295,
   "id": "203f2a75",
   "metadata": {},
   "outputs": [
    {
     "data": {
      "text/plain": [
       "ID                   0\n",
       "Datetime             0\n",
       "Sensor1_PM2.5        0\n",
       "Sensor2_PM2.5        0\n",
       "Temperature          0\n",
       "Relative_Humidity    0\n",
       "Offset_fault         0\n",
       "Hour                 0\n",
       "Month                0\n",
       "Day of Week          0\n",
       "dtype: int64"
      ]
     },
     "execution_count": 295,
     "metadata": {},
     "output_type": "execute_result"
    }
   ],
   "source": [
    "read_df.isna().sum()"
   ]
  },
  {
   "cell_type": "code",
   "execution_count": 296,
   "id": "1ee5a229",
   "metadata": {},
   "outputs": [
    {
     "data": {
      "text/html": [
       "<div>\n",
       "<style scoped>\n",
       "    .dataframe tbody tr th:only-of-type {\n",
       "        vertical-align: middle;\n",
       "    }\n",
       "\n",
       "    .dataframe tbody tr th {\n",
       "        vertical-align: top;\n",
       "    }\n",
       "\n",
       "    .dataframe thead th {\n",
       "        text-align: right;\n",
       "    }\n",
       "</style>\n",
       "<table border=\"1\" class=\"dataframe\">\n",
       "  <thead>\n",
       "    <tr style=\"text-align: right;\">\n",
       "      <th></th>\n",
       "      <th>ID</th>\n",
       "      <th>Datetime</th>\n",
       "      <th>Sensor1_PM2.5</th>\n",
       "      <th>Sensor2_PM2.5</th>\n",
       "      <th>Temperature</th>\n",
       "      <th>Relative_Humidity</th>\n",
       "      <th>Offset_fault</th>\n",
       "      <th>Hour</th>\n",
       "      <th>Month</th>\n",
       "      <th>Day of Week</th>\n",
       "    </tr>\n",
       "  </thead>\n",
       "  <tbody>\n",
       "    <tr>\n",
       "      <th>0</th>\n",
       "      <td>ID_QF0ZTQJ2SF5Q</td>\n",
       "      <td>2021-11-03 04:06:31</td>\n",
       "      <td>52.58</td>\n",
       "      <td>49.52</td>\n",
       "      <td>17.4</td>\n",
       "      <td>96.0</td>\n",
       "      <td>0</td>\n",
       "      <td>4</td>\n",
       "      <td>11</td>\n",
       "      <td>Wed</td>\n",
       "    </tr>\n",
       "    <tr>\n",
       "      <th>1</th>\n",
       "      <td>ID_4GTK689CNX5S</td>\n",
       "      <td>2021-11-08 18:43:23</td>\n",
       "      <td>35.25</td>\n",
       "      <td>33.40</td>\n",
       "      <td>25.0</td>\n",
       "      <td>75.0</td>\n",
       "      <td>0</td>\n",
       "      <td>18</td>\n",
       "      <td>11</td>\n",
       "      <td>Mon</td>\n",
       "    </tr>\n",
       "    <tr>\n",
       "      <th>2</th>\n",
       "      <td>ID_DL7VVKW9U7XQ</td>\n",
       "      <td>2021-11-07 09:50:33</td>\n",
       "      <td>19.18</td>\n",
       "      <td>23.50</td>\n",
       "      <td>24.9</td>\n",
       "      <td>75.0</td>\n",
       "      <td>0</td>\n",
       "      <td>9</td>\n",
       "      <td>11</td>\n",
       "      <td>Sun</td>\n",
       "    </tr>\n",
       "    <tr>\n",
       "      <th>3</th>\n",
       "      <td>ID_6XQOMBXM2DG3</td>\n",
       "      <td>2022-01-01 18:55:15</td>\n",
       "      <td>19.40</td>\n",
       "      <td>15.48</td>\n",
       "      <td>24.9</td>\n",
       "      <td>70.0</td>\n",
       "      <td>0</td>\n",
       "      <td>18</td>\n",
       "      <td>1</td>\n",
       "      <td>Sat</td>\n",
       "    </tr>\n",
       "    <tr>\n",
       "      <th>4</th>\n",
       "      <td>ID_UQZW9ISJY9QE</td>\n",
       "      <td>2021-11-05 22:23:48</td>\n",
       "      <td>38.30</td>\n",
       "      <td>34.77</td>\n",
       "      <td>20.9</td>\n",
       "      <td>89.0</td>\n",
       "      <td>0</td>\n",
       "      <td>22</td>\n",
       "      <td>11</td>\n",
       "      <td>Fri</td>\n",
       "    </tr>\n",
       "  </tbody>\n",
       "</table>\n",
       "</div>"
      ],
      "text/plain": [
       "                ID            Datetime  Sensor1_PM2.5  Sensor2_PM2.5  \\\n",
       "0  ID_QF0ZTQJ2SF5Q 2021-11-03 04:06:31          52.58          49.52   \n",
       "1  ID_4GTK689CNX5S 2021-11-08 18:43:23          35.25          33.40   \n",
       "2  ID_DL7VVKW9U7XQ 2021-11-07 09:50:33          19.18          23.50   \n",
       "3  ID_6XQOMBXM2DG3 2022-01-01 18:55:15          19.40          15.48   \n",
       "4  ID_UQZW9ISJY9QE 2021-11-05 22:23:48          38.30          34.77   \n",
       "\n",
       "   Temperature  Relative_Humidity  Offset_fault  Hour  Month Day of Week  \n",
       "0         17.4               96.0             0     4     11         Wed  \n",
       "1         25.0               75.0             0    18     11         Mon  \n",
       "2         24.9               75.0             0     9     11         Sun  \n",
       "3         24.9               70.0             0    18      1         Sat  \n",
       "4         20.9               89.0             0    22     11         Fri  "
      ]
     },
     "execution_count": 296,
     "metadata": {},
     "output_type": "execute_result"
    }
   ],
   "source": [
    "read_df.head()"
   ]
  },
  {
   "cell_type": "code",
   "execution_count": 297,
   "id": "08253a59",
   "metadata": {},
   "outputs": [],
   "source": [
    "#read_df.to_csv(\"new_dataset.csv\")"
   ]
  },
  {
   "cell_type": "code",
   "execution_count": 298,
   "id": "6706e138",
   "metadata": {},
   "outputs": [],
   "source": [
    "read_df['Day of Week'] = read_df['Datetime'].apply(lambda time: time.dayofweek)"
   ]
  },
  {
   "cell_type": "code",
   "execution_count": 299,
   "id": "8c4a8dcd",
   "metadata": {},
   "outputs": [
    {
     "data": {
      "text/html": [
       "<div>\n",
       "<style scoped>\n",
       "    .dataframe tbody tr th:only-of-type {\n",
       "        vertical-align: middle;\n",
       "    }\n",
       "\n",
       "    .dataframe tbody tr th {\n",
       "        vertical-align: top;\n",
       "    }\n",
       "\n",
       "    .dataframe thead th {\n",
       "        text-align: right;\n",
       "    }\n",
       "</style>\n",
       "<table border=\"1\" class=\"dataframe\">\n",
       "  <thead>\n",
       "    <tr style=\"text-align: right;\">\n",
       "      <th></th>\n",
       "      <th>ID</th>\n",
       "      <th>Datetime</th>\n",
       "      <th>Sensor1_PM2.5</th>\n",
       "      <th>Sensor2_PM2.5</th>\n",
       "      <th>Temperature</th>\n",
       "      <th>Relative_Humidity</th>\n",
       "      <th>Offset_fault</th>\n",
       "      <th>Hour</th>\n",
       "      <th>Month</th>\n",
       "      <th>Day of Week</th>\n",
       "    </tr>\n",
       "  </thead>\n",
       "  <tbody>\n",
       "    <tr>\n",
       "      <th>0</th>\n",
       "      <td>ID_QF0ZTQJ2SF5Q</td>\n",
       "      <td>2021-11-03 04:06:31</td>\n",
       "      <td>52.58</td>\n",
       "      <td>49.52</td>\n",
       "      <td>17.4</td>\n",
       "      <td>96.0</td>\n",
       "      <td>0</td>\n",
       "      <td>4</td>\n",
       "      <td>11</td>\n",
       "      <td>2</td>\n",
       "    </tr>\n",
       "    <tr>\n",
       "      <th>1</th>\n",
       "      <td>ID_4GTK689CNX5S</td>\n",
       "      <td>2021-11-08 18:43:23</td>\n",
       "      <td>35.25</td>\n",
       "      <td>33.40</td>\n",
       "      <td>25.0</td>\n",
       "      <td>75.0</td>\n",
       "      <td>0</td>\n",
       "      <td>18</td>\n",
       "      <td>11</td>\n",
       "      <td>0</td>\n",
       "    </tr>\n",
       "    <tr>\n",
       "      <th>2</th>\n",
       "      <td>ID_DL7VVKW9U7XQ</td>\n",
       "      <td>2021-11-07 09:50:33</td>\n",
       "      <td>19.18</td>\n",
       "      <td>23.50</td>\n",
       "      <td>24.9</td>\n",
       "      <td>75.0</td>\n",
       "      <td>0</td>\n",
       "      <td>9</td>\n",
       "      <td>11</td>\n",
       "      <td>6</td>\n",
       "    </tr>\n",
       "    <tr>\n",
       "      <th>3</th>\n",
       "      <td>ID_6XQOMBXM2DG3</td>\n",
       "      <td>2022-01-01 18:55:15</td>\n",
       "      <td>19.40</td>\n",
       "      <td>15.48</td>\n",
       "      <td>24.9</td>\n",
       "      <td>70.0</td>\n",
       "      <td>0</td>\n",
       "      <td>18</td>\n",
       "      <td>1</td>\n",
       "      <td>5</td>\n",
       "    </tr>\n",
       "    <tr>\n",
       "      <th>4</th>\n",
       "      <td>ID_UQZW9ISJY9QE</td>\n",
       "      <td>2021-11-05 22:23:48</td>\n",
       "      <td>38.30</td>\n",
       "      <td>34.77</td>\n",
       "      <td>20.9</td>\n",
       "      <td>89.0</td>\n",
       "      <td>0</td>\n",
       "      <td>22</td>\n",
       "      <td>11</td>\n",
       "      <td>4</td>\n",
       "    </tr>\n",
       "  </tbody>\n",
       "</table>\n",
       "</div>"
      ],
      "text/plain": [
       "                ID            Datetime  Sensor1_PM2.5  Sensor2_PM2.5  \\\n",
       "0  ID_QF0ZTQJ2SF5Q 2021-11-03 04:06:31          52.58          49.52   \n",
       "1  ID_4GTK689CNX5S 2021-11-08 18:43:23          35.25          33.40   \n",
       "2  ID_DL7VVKW9U7XQ 2021-11-07 09:50:33          19.18          23.50   \n",
       "3  ID_6XQOMBXM2DG3 2022-01-01 18:55:15          19.40          15.48   \n",
       "4  ID_UQZW9ISJY9QE 2021-11-05 22:23:48          38.30          34.77   \n",
       "\n",
       "   Temperature  Relative_Humidity  Offset_fault  Hour  Month  Day of Week  \n",
       "0         17.4               96.0             0     4     11            2  \n",
       "1         25.0               75.0             0    18     11            0  \n",
       "2         24.9               75.0             0     9     11            6  \n",
       "3         24.9               70.0             0    18      1            5  \n",
       "4         20.9               89.0             0    22     11            4  "
      ]
     },
     "execution_count": 299,
     "metadata": {},
     "output_type": "execute_result"
    }
   ],
   "source": [
    "read_df.head()"
   ]
  },
  {
   "cell_type": "code",
   "execution_count": 5,
   "id": "5f3a7f67",
   "metadata": {},
   "outputs": [],
   "source": [
    "train_df = read_df.drop(labels=['ID','Datetime'],axis=1)"
   ]
  },
  {
   "cell_type": "code",
   "execution_count": 6,
   "id": "b444b039",
   "metadata": {},
   "outputs": [
    {
     "data": {
      "text/html": [
       "<div>\n",
       "<style scoped>\n",
       "    .dataframe tbody tr th:only-of-type {\n",
       "        vertical-align: middle;\n",
       "    }\n",
       "\n",
       "    .dataframe tbody tr th {\n",
       "        vertical-align: top;\n",
       "    }\n",
       "\n",
       "    .dataframe thead th {\n",
       "        text-align: right;\n",
       "    }\n",
       "</style>\n",
       "<table border=\"1\" class=\"dataframe\">\n",
       "  <thead>\n",
       "    <tr style=\"text-align: right;\">\n",
       "      <th></th>\n",
       "      <th>Sensor1_PM2.5</th>\n",
       "      <th>Sensor2_PM2.5</th>\n",
       "      <th>Temperature</th>\n",
       "      <th>Relative_Humidity</th>\n",
       "      <th>Offset_fault</th>\n",
       "    </tr>\n",
       "  </thead>\n",
       "  <tbody>\n",
       "    <tr>\n",
       "      <th>0</th>\n",
       "      <td>52.58</td>\n",
       "      <td>49.52</td>\n",
       "      <td>17.4</td>\n",
       "      <td>96.0</td>\n",
       "      <td>0</td>\n",
       "    </tr>\n",
       "    <tr>\n",
       "      <th>1</th>\n",
       "      <td>35.25</td>\n",
       "      <td>33.40</td>\n",
       "      <td>25.0</td>\n",
       "      <td>75.0</td>\n",
       "      <td>0</td>\n",
       "    </tr>\n",
       "    <tr>\n",
       "      <th>2</th>\n",
       "      <td>19.18</td>\n",
       "      <td>23.50</td>\n",
       "      <td>24.9</td>\n",
       "      <td>75.0</td>\n",
       "      <td>0</td>\n",
       "    </tr>\n",
       "    <tr>\n",
       "      <th>3</th>\n",
       "      <td>19.40</td>\n",
       "      <td>15.48</td>\n",
       "      <td>24.9</td>\n",
       "      <td>70.0</td>\n",
       "      <td>0</td>\n",
       "    </tr>\n",
       "    <tr>\n",
       "      <th>4</th>\n",
       "      <td>38.30</td>\n",
       "      <td>34.77</td>\n",
       "      <td>20.9</td>\n",
       "      <td>89.0</td>\n",
       "      <td>0</td>\n",
       "    </tr>\n",
       "    <tr>\n",
       "      <th>...</th>\n",
       "      <td>...</td>\n",
       "      <td>...</td>\n",
       "      <td>...</td>\n",
       "      <td>...</td>\n",
       "      <td>...</td>\n",
       "    </tr>\n",
       "    <tr>\n",
       "      <th>297172</th>\n",
       "      <td>36.40</td>\n",
       "      <td>37.77</td>\n",
       "      <td>28.6</td>\n",
       "      <td>62.0</td>\n",
       "      <td>0</td>\n",
       "    </tr>\n",
       "    <tr>\n",
       "      <th>297173</th>\n",
       "      <td>50.12</td>\n",
       "      <td>40.63</td>\n",
       "      <td>21.6</td>\n",
       "      <td>86.0</td>\n",
       "      <td>1</td>\n",
       "    </tr>\n",
       "    <tr>\n",
       "      <th>297174</th>\n",
       "      <td>53.68</td>\n",
       "      <td>45.23</td>\n",
       "      <td>20.2</td>\n",
       "      <td>94.0</td>\n",
       "      <td>1</td>\n",
       "    </tr>\n",
       "    <tr>\n",
       "      <th>297175</th>\n",
       "      <td>96.45</td>\n",
       "      <td>114.67</td>\n",
       "      <td>20.6</td>\n",
       "      <td>93.0</td>\n",
       "      <td>0</td>\n",
       "    </tr>\n",
       "    <tr>\n",
       "      <th>297176</th>\n",
       "      <td>44.27</td>\n",
       "      <td>36.77</td>\n",
       "      <td>17.3</td>\n",
       "      <td>95.0</td>\n",
       "      <td>1</td>\n",
       "    </tr>\n",
       "  </tbody>\n",
       "</table>\n",
       "<p>297177 rows × 5 columns</p>\n",
       "</div>"
      ],
      "text/plain": [
       "        Sensor1_PM2.5  Sensor2_PM2.5  Temperature  Relative_Humidity  \\\n",
       "0               52.58          49.52         17.4               96.0   \n",
       "1               35.25          33.40         25.0               75.0   \n",
       "2               19.18          23.50         24.9               75.0   \n",
       "3               19.40          15.48         24.9               70.0   \n",
       "4               38.30          34.77         20.9               89.0   \n",
       "...               ...            ...          ...                ...   \n",
       "297172          36.40          37.77         28.6               62.0   \n",
       "297173          50.12          40.63         21.6               86.0   \n",
       "297174          53.68          45.23         20.2               94.0   \n",
       "297175          96.45         114.67         20.6               93.0   \n",
       "297176          44.27          36.77         17.3               95.0   \n",
       "\n",
       "        Offset_fault  \n",
       "0                  0  \n",
       "1                  0  \n",
       "2                  0  \n",
       "3                  0  \n",
       "4                  0  \n",
       "...              ...  \n",
       "297172             0  \n",
       "297173             1  \n",
       "297174             1  \n",
       "297175             0  \n",
       "297176             1  \n",
       "\n",
       "[297177 rows x 5 columns]"
      ]
     },
     "execution_count": 6,
     "metadata": {},
     "output_type": "execute_result"
    }
   ],
   "source": [
    "train_df"
   ]
  },
  {
   "cell_type": "code",
   "execution_count": 8,
   "id": "764d0538",
   "metadata": {},
   "outputs": [
    {
     "name": "stderr",
     "output_type": "stream",
     "text": [
      "/home/victor/anaconda3/lib/python3.8/site-packages/seaborn/_decorators.py:36: FutureWarning: Pass the following variable as a keyword arg: x. From version 0.12, the only valid positional argument will be `data`, and passing other arguments without an explicit keyword will result in an error or misinterpretation.\n",
      "  warnings.warn(\n"
     ]
    },
    {
     "data": {
      "text/plain": [
       "<AxesSubplot:xlabel='Offset_fault', ylabel='count'>"
      ]
     },
     "execution_count": 8,
     "metadata": {},
     "output_type": "execute_result"
    },
    {
     "data": {
      "image/png": "[encoded data removed]",
      "text/plain": [
       "<Figure size 432x288 with 1 Axes>"
      ]
     },
     "metadata": {
      "needs_background": "light"
     },
     "output_type": "display_data"
    }
   ],
   "source": [
    "sns.countplot(train_df['Offset_fault'])"
   ]
  },
  {
   "cell_type": "code",
   "execution_count": 10,
   "id": "f31060ae",
   "metadata": {},
   "outputs": [],
   "source": [
    "from sklearn.model_selection import train_test_split\n",
    "from sklearn.metrics import accuracy_score, confusion_matrix, classification_report, ConfusionMatrixDisplay"
   ]
  },
  {
   "cell_type": "code",
   "execution_count": 11,
   "id": "26aedca5",
   "metadata": {},
   "outputs": [
    {
     "ename": "NameError",
     "evalue": "name 'train_df' is not defined",
     "output_type": "error",
     "traceback": [
      "\u001b[0;31m---------------------------------------------------------------------------\u001b[0m",
      "\u001b[0;31mNameError\u001b[0m                                 Traceback (most recent call last)",
      "\u001b[0;32m<ipython-input-11-d3308a587d1c>\u001b[0m in \u001b[0;36m<module>\u001b[0;34m\u001b[0m\n\u001b[0;32m----> 1\u001b[0;31m \u001b[0mX\u001b[0m \u001b[0;34m=\u001b[0m \u001b[0mtrain_df\u001b[0m\u001b[0;34m.\u001b[0m\u001b[0mdrop\u001b[0m\u001b[0;34m(\u001b[0m\u001b[0;34m'Offset_fault'\u001b[0m\u001b[0;34m,\u001b[0m\u001b[0maxis\u001b[0m\u001b[0;34m=\u001b[0m\u001b[0;36m1\u001b[0m\u001b[0;34m)\u001b[0m\u001b[0;34m\u001b[0m\u001b[0;34m\u001b[0m\u001b[0m\n\u001b[0m\u001b[1;32m      2\u001b[0m \u001b[0my\u001b[0m \u001b[0;34m=\u001b[0m \u001b[0mtrain_df\u001b[0m\u001b[0;34m[\u001b[0m\u001b[0;34m'Offset_fault'\u001b[0m\u001b[0;34m]\u001b[0m\u001b[0;34m\u001b[0m\u001b[0;34m\u001b[0m\u001b[0m\n",
      "\u001b[0;31mNameError\u001b[0m: name 'train_df' is not defined"
     ]
    }
   ],
   "source": [
    "X = train_df.drop('Offset_fault',axis=1)\n",
    "y = train_df['Offset_fault']"
   ]
  },
  {
   "cell_type": "code",
   "execution_count": 307,
   "id": "4be2ead2",
   "metadata": {},
   "outputs": [],
   "source": [
    "y = np.array(y)"
   ]
  },
  {
   "cell_type": "code",
   "execution_count": 310,
   "id": "79727f7e",
   "metadata": {},
   "outputs": [
    {
     "data": {
      "text/plain": [
       "297177"
      ]
     },
     "execution_count": 310,
     "metadata": {},
     "output_type": "execute_result"
    }
   ],
   "source": [
    "len(y)"
   ]
  },
  {
   "cell_type": "code",
   "execution_count": 318,
   "id": "b31fd3d9",
   "metadata": {},
   "outputs": [
    {
     "data": {
      "text/plain": [
       "(297177, 7)"
      ]
     },
     "execution_count": 318,
     "metadata": {},
     "output_type": "execute_result"
    }
   ],
   "source": [
    "np.array(X).shape"
   ]
  },
  {
   "cell_type": "code",
   "execution_count": 315,
   "id": "1505aebe",
   "metadata": {},
   "outputs": [],
   "source": [
    "y = y.reshape((len(y),1))"
   ]
  },
  {
   "cell_type": "code",
   "execution_count": 319,
   "id": "b3bdfeb5",
   "metadata": {},
   "outputs": [],
   "source": [
    "X_train, X_test, y_train, y_test = train_test_split(X, y, test_size=0.33, random_state=101)"
   ]
  },
  {
   "cell_type": "code",
   "execution_count": 320,
   "id": "b8e1ebcf",
   "metadata": {},
   "outputs": [],
   "source": [
    "from sklearn.linear_model import LogisticRegression"
   ]
  },
  {
   "cell_type": "code",
   "execution_count": 321,
   "id": "3c1f6d16",
   "metadata": {},
   "outputs": [
    {
     "name": "stderr",
     "output_type": "stream",
     "text": [
      "/home/victor/anaconda3/lib/python3.8/site-packages/sklearn/utils/validation.py:63: DataConversionWarning: A column-vector y was passed when a 1d array was expected. Please change the shape of y to (n_samples, ), for example using ravel().\n",
      "  return f(*args, **kwargs)\n"
     ]
    },
    {
     "data": {
      "text/plain": [
       "LogisticRegression()"
      ]
     },
     "execution_count": 321,
     "metadata": {},
     "output_type": "execute_result"
    }
   ],
   "source": [
    "logmodel = LogisticRegression()\n",
    "logmodel.fit(X_train,y_train)"
   ]
  },
  {
   "cell_type": "code",
   "execution_count": 322,
   "id": "ee0ef3b3",
   "metadata": {},
   "outputs": [],
   "source": [
    "predictions = logmodel.predict(X_test)"
   ]
  },
  {
   "cell_type": "code",
   "execution_count": 323,
   "id": "d92fd185",
   "metadata": {},
   "outputs": [
    {
     "name": "stdout",
     "output_type": "stream",
     "text": [
      "              precision    recall  f1-score   support\n",
      "\n",
      "           0       0.92      0.91      0.92     61513\n",
      "           1       0.86      0.86      0.86     36556\n",
      "\n",
      "    accuracy                           0.89     98069\n",
      "   macro avg       0.89      0.89      0.89     98069\n",
      "weighted avg       0.89      0.89      0.89     98069\n",
      "\n"
     ]
    }
   ],
   "source": [
    "print(classification_report(y_test,predictions))"
   ]
  },
  {
   "cell_type": "code",
   "execution_count": 326,
   "id": "dc523a17",
   "metadata": {},
   "outputs": [
    {
     "data": {
      "image/png": "[encoded data removed]",
      "text/plain": [
       "<Figure size 1080x504 with 2 Axes>"
      ]
     },
     "metadata": {
      "needs_background": "light"
     },
     "output_type": "display_data"
    }
   ],
   "source": [
    "# Confusion matrix\n",
    "cm = confusion_matrix(y_test, predictions, labels=logmodel.classes_)\n",
    "disp = ConfusionMatrixDisplay(confusion_matrix=cm, display_labels=logmodel.classes_)\n",
    "fig, ax = plt.subplots(figsize=(15,7))\n",
    "disp.plot(ax=ax)\n",
    "plt.show()"
   ]
  },
  {
   "cell_type": "code",
   "execution_count": 57,
   "id": "edb72572",
   "metadata": {},
   "outputs": [],
   "source": [
    "feats = list(read_df.columns)"
   ]
  },
  {
   "cell_type": "code",
   "execution_count": 59,
   "id": "11ab2b73",
   "metadata": {},
   "outputs": [
    {
     "data": {
      "text/plain": [
       "'Unnamed: 0'"
      ]
     },
     "execution_count": 59,
     "metadata": {},
     "output_type": "execute_result"
    }
   ],
   "source": [
    "feats.pop(0)"
   ]
  },
  {
   "cell_type": "code",
   "execution_count": 65,
   "id": "bf90f20c",
   "metadata": {},
   "outputs": [
    {
     "data": {
      "text/plain": [
       "['ID',\n",
       " 'Sensor1_PM2.5',\n",
       " 'Sensor2_PM2.5',\n",
       " 'Temperature',\n",
       " 'Relative_Humidity',\n",
       " 'Offset_fault',\n",
       " 'Hour',\n",
       " 'Month',\n",
       " 'Day of Week']"
      ]
     },
     "execution_count": 65,
     "metadata": {},
     "output_type": "execute_result"
    }
   ],
   "source": [
    "feats"
   ]
  },
  {
   "cell_type": "code",
   "execution_count": 342,
   "id": "a4ac0422",
   "metadata": {},
   "outputs": [],
   "source": [
    "test_df['Hour'] = test_df['Datetime'].apply(lambda time: time.hour)\n",
    "test_df['Month'] = test_df['Datetime'].apply(lambda time: time.month)\n",
    "test_df['Day of Week'] = test_df['Datetime'].apply(lambda time: time.dayofweek)"
   ]
  },
  {
   "cell_type": "code",
   "execution_count": 357,
   "id": "6d04b11f",
   "metadata": {},
   "outputs": [],
   "source": [
    "test_df = test_df[feats]\n",
    "logistic_predictions = logmodel.predict(test_df)\n"
   ]
  },
  {
   "cell_type": "code",
   "execution_count": 358,
   "id": "35a89144",
   "metadata": {},
   "outputs": [],
   "source": [
    "sub_file.Offset_fault = logistic_predictions"
   ]
  },
  {
   "cell_type": "code",
   "execution_count": 359,
   "id": "005d6805",
   "metadata": {},
   "outputs": [
    {
     "name": "stderr",
     "output_type": "stream",
     "text": [
      "/home/victor/anaconda3/lib/python3.8/site-packages/seaborn/_decorators.py:36: FutureWarning: Pass the following variable as a keyword arg: x. From version 0.12, the only valid positional argument will be `data`, and passing other arguments without an explicit keyword will result in an error or misinterpretation.\n",
      "  warnings.warn(\n"
     ]
    },
    {
     "data": {
      "image/png": "[encoded data removed]",
      "text/plain": [
       "<Figure size 576x360 with 1 Axes>"
      ]
     },
     "metadata": {
      "needs_background": "light"
     },
     "output_type": "display_data"
    }
   ],
   "source": [
    "plt.figure(figsize=(8, 5))\n",
    "sns.countplot(sub_file.Offset_fault)\n",
    "plt.title('Predictions Data Distribution');"
   ]
  },
  {
   "cell_type": "code",
   "execution_count": 360,
   "id": "5fe4de37",
   "metadata": {},
   "outputs": [],
   "source": [
    "sub_file.to_csv('Baseline2.csv', index = False)"
   ]
  },
  {
   "cell_type": "code",
   "execution_count": 363,
   "id": "fdb06785",
   "metadata": {},
   "outputs": [],
   "source": [
    "import tensorflow as tf"
   ]
  },
  {
   "cell_type": "code",
   "execution_count": 364,
   "id": "1f88b5a6",
   "metadata": {},
   "outputs": [],
   "source": [
    "from sklearn.svm import SVC"
   ]
  },
  {
   "cell_type": "code",
   "execution_count": 365,
   "id": "45fb00a6",
   "metadata": {},
   "outputs": [],
   "source": [
    "model = SVC()"
   ]
  },
  {
   "cell_type": "code",
   "execution_count": 366,
   "id": "8c9e5fd7",
   "metadata": {},
   "outputs": [
    {
     "name": "stderr",
     "output_type": "stream",
     "text": [
      "/home/victor/anaconda3/lib/python3.8/site-packages/sklearn/utils/validation.py:63: DataConversionWarning: A column-vector y was passed when a 1d array was expected. Please change the shape of y to (n_samples, ), for example using ravel().\n",
      "  return f(*args, **kwargs)\n"
     ]
    },
    {
     "data": {
      "text/plain": [
       "SVC()"
      ]
     },
     "execution_count": 366,
     "metadata": {},
     "output_type": "execute_result"
    }
   ],
   "source": [
    "model.fit(X_train,y_train)"
   ]
  },
  {
   "cell_type": "code",
   "execution_count": 367,
   "id": "8977a0a1",
   "metadata": {},
   "outputs": [],
   "source": [
    "svm_pred = model.predict(X_test)"
   ]
  },
  {
   "cell_type": "code",
   "execution_count": 368,
   "id": "a98a1257",
   "metadata": {},
   "outputs": [],
   "source": [
    "from sklearn.metrics import classification_report,confusion_matrix"
   ]
  },
  {
   "cell_type": "code",
   "execution_count": 369,
   "id": "4c8e9a4f",
   "metadata": {},
   "outputs": [
    {
     "name": "stdout",
     "output_type": "stream",
     "text": [
      "              precision    recall  f1-score   support\n",
      "\n",
      "           0       0.94      0.94      0.94     61513\n",
      "           1       0.90      0.89      0.90     36556\n",
      "\n",
      "    accuracy                           0.92     98069\n",
      "   macro avg       0.92      0.92      0.92     98069\n",
      "weighted avg       0.92      0.92      0.92     98069\n",
      "\n"
     ]
    }
   ],
   "source": [
    "print(classification_report(y_test,svm_pred))"
   ]
  },
  {
   "cell_type": "code",
   "execution_count": 370,
   "id": "f0c53c9b",
   "metadata": {},
   "outputs": [],
   "source": [
    "svm_predictions = model.predict(test_df)\n"
   ]
  },
  {
   "cell_type": "code",
   "execution_count": 371,
   "id": "5ae33b76",
   "metadata": {},
   "outputs": [],
   "source": [
    "sub_file.Offset_fault = svm_predictions"
   ]
  },
  {
   "cell_type": "code",
   "execution_count": 372,
   "id": "9a489b56",
   "metadata": {},
   "outputs": [
    {
     "name": "stderr",
     "output_type": "stream",
     "text": [
      "/home/victor/anaconda3/lib/python3.8/site-packages/seaborn/_decorators.py:36: FutureWarning: Pass the following variable as a keyword arg: x. From version 0.12, the only valid positional argument will be `data`, and passing other arguments without an explicit keyword will result in an error or misinterpretation.\n",
      "  warnings.warn(\n"
     ]
    },
    {
     "data": {
      "text/plain": [
       "Text(0.5, 1.0, 'Predictions Data Distribution')"
      ]
     },
     "execution_count": 372,
     "metadata": {},
     "output_type": "execute_result"
    },
    {
     "data": {
      "image/png": "[encoded data removed]",
      "text/plain": [
       "<Figure size 576x360 with 1 Axes>"
      ]
     },
     "metadata": {
      "needs_background": "light"
     },
     "output_type": "display_data"
    }
   ],
   "source": [
    "plt.figure(figsize=(8, 5))\n",
    "sns.countplot(sub_file.Offset_fault)\n",
    "plt.title('Predictions Data Distribution')"
   ]
  },
  {
   "cell_type": "code",
   "execution_count": 373,
   "id": "86a2080b",
   "metadata": {},
   "outputs": [],
   "source": [
    "sub_file.to_csv('Baseline3.csv', index = False)"
   ]
  },
  {
   "cell_type": "code",
   "execution_count": null,
   "id": "93a1f733",
   "metadata": {},
   "outputs": [],
   "source": [
    "model = tf.keras.models.Sequential()\n",
    "model.add(tf.keras.layers.Dense(units = 128, activation = 'relu', input_shape = (7,)))\n",
    "model.add(tf.keras.layers.Dropout(0.2))\n",
    "model.add(tf.keras.layers.Dense(units = 1, activation = 'softmax'))\n"
   ]
  },
  {
   "cell_type": "markdown",
   "id": "b58fc06b",
   "metadata": {},
   "source": [
    "**Applying Smote**\n"
   ]
  },
  {
   "cell_type": "code",
   "execution_count": 41,
   "id": "507ca832",
   "metadata": {},
   "outputs": [],
   "source": [
    "read_df = pd.read_csv('new_dataset.csv',parse_dates=['Datetime'])"
   ]
  },
  {
   "cell_type": "markdown",
   "id": "cd9a49da",
   "metadata": {},
   "source": [
    "read_df.info()"
   ]
  },
  {
   "cell_type": "code",
   "execution_count": 43,
   "id": "9cf1428c",
   "metadata": {},
   "outputs": [],
   "source": [
    "oversample = RandomOverSampler(sampling_strategy='minority')"
   ]
  },
  {
   "cell_type": "code",
   "execution_count": 44,
   "id": "dcf58e7e",
   "metadata": {},
   "outputs": [],
   "source": [
    "read_df['Day of Week'] = read_df['Datetime'].apply(lambda time: time.dayofweek)"
   ]
  },
  {
   "cell_type": "code",
   "execution_count": 45,
   "id": "1b2f4c1e",
   "metadata": {},
   "outputs": [],
   "source": [
    "train_df = read_df.drop(labels=['ID','Datetime'],axis=1)"
   ]
  },
  {
   "cell_type": "code",
   "execution_count": 83,
   "id": "c73a1f88",
   "metadata": {},
   "outputs": [],
   "source": [
    "X = train_df.drop('Offset_fault',axis=1)\n",
    "y = train_df['Offset_fault']"
   ]
  },
  {
   "cell_type": "code",
   "execution_count": null,
   "id": "1fa0a865",
   "metadata": {},
   "outputs": [],
   "source": [
    "X.colu"
   ]
  },
  {
   "cell_type": "code",
   "execution_count": 47,
   "id": "1a9d8d55",
   "metadata": {},
   "outputs": [],
   "source": [
    "X,y = oversample.fit_resample(X,y)"
   ]
  },
  {
   "cell_type": "code",
   "execution_count": 48,
   "id": "6fe781a3",
   "metadata": {},
   "outputs": [],
   "source": [
    "from sklearn.preprocessing import MinMaxScaler\n",
    "scale = MinMaxScaler()\n",
    "X = scale.fit_transform(X)"
   ]
  },
  {
   "cell_type": "code",
   "execution_count": 49,
   "id": "a834c66c",
   "metadata": {},
   "outputs": [
    {
     "data": {
      "text/plain": [
       "array([[0],\n",
       "       [0],\n",
       "       [0],\n",
       "       ...,\n",
       "       [1],\n",
       "       [1],\n",
       "       [1]])"
      ]
     },
     "execution_count": 49,
     "metadata": {},
     "output_type": "execute_result"
    }
   ],
   "source": [
    "y = np.array(y)\n",
    "y.reshape(len(y),1)"
   ]
  },
  {
   "cell_type": "code",
   "execution_count": 50,
   "id": "b8559061",
   "metadata": {},
   "outputs": [],
   "source": [
    "X_train, X_test, y_train, y_test = train_test_split(X, y, test_size=0.33, random_state=101)"
   ]
  },
  {
   "cell_type": "code",
   "execution_count": null,
   "id": "ece48bf0",
   "metadata": {},
   "outputs": [],
   "source": [
    "print(classification_report(y_test,svm_pred))from sklearn.svm import SVC\n",
    "model = SVC()\n",
    "model.fit(X_train,y_train)"
   ]
  },
  {
   "cell_type": "code",
   "execution_count": null,
   "id": "0be3abd4",
   "metadata": {},
   "outputs": [],
   "source": [
    "from sklearn.metrics import classification_report,confusion_matrix\n",
    "svm_pred = model.predict(X_test)\n",
    "print(classification_report(y_test,svm_pred))"
   ]
  },
  {
   "cell_type": "code",
   "execution_count": 51,
   "id": "5a2b3a21",
   "metadata": {
    "scrolled": true
   },
   "outputs": [
    {
     "data": {
      "text/plain": [
       "LogisticRegression()"
      ]
     },
     "execution_count": 51,
     "metadata": {},
     "output_type": "execute_result"
    }
   ],
   "source": [
    "from sklearn.linear_model import LogisticRegression\n",
    "logmodel = LogisticRegression()\n",
    "logmodel.fit(X_train,y_train)"
   ]
  },
  {
   "cell_type": "code",
   "execution_count": 52,
   "id": "539974fa",
   "metadata": {},
   "outputs": [
    {
     "name": "stdout",
     "output_type": "stream",
     "text": [
      "              precision    recall  f1-score   support\n",
      "\n",
      "           0       0.90      0.79      0.84     61526\n",
      "           1       0.82      0.91      0.86     61830\n",
      "\n",
      "    accuracy                           0.85    123356\n",
      "   macro avg       0.86      0.85      0.85    123356\n",
      "weighted avg       0.86      0.85      0.85    123356\n",
      "\n"
     ]
    }
   ],
   "source": [
    "predictions = logmodel.predict(X_test)\n",
    "print(classification_report(y_test,predictions))\n"
   ]
  },
  {
   "cell_type": "code",
   "execution_count": 53,
   "id": "af5c9368",
   "metadata": {},
   "outputs": [
    {
     "name": "stdout",
     "output_type": "stream",
     "text": [
      "              precision    recall  f1-score   support\n",
      "\n",
      "           0       0.90      0.79      0.84     61526\n",
      "           1       0.82      0.91      0.86     61830\n",
      "\n",
      "    accuracy                           0.85    123356\n",
      "   macro avg       0.86      0.85      0.85    123356\n",
      "weighted avg       0.86      0.85      0.85    123356\n",
      "\n"
     ]
    }
   ],
   "source": [
    "predictions = logmodel.predict(X_test)\n",
    "print(classification_report(y_test,predictions))\n"
   ]
  },
  {
   "cell_type": "code",
   "execution_count": 68,
   "id": "fb4bdcb7",
   "metadata": {},
   "outputs": [
    {
     "data": {
      "text/plain": [
       "'ID'"
      ]
     },
     "execution_count": 68,
     "metadata": {},
     "output_type": "execute_result"
    }
   ],
   "source": [
    "feats.pop(0)"
   ]
  },
  {
   "cell_type": "code",
   "execution_count": 70,
   "id": "cd86864d",
   "metadata": {},
   "outputs": [
    {
     "data": {
      "text/plain": [
       "'Offset_fault'"
      ]
     },
     "execution_count": 70,
     "metadata": {},
     "output_type": "execute_result"
    }
   ],
   "source": [
    "feats.pop(4)"
   ]
  },
  {
   "cell_type": "code",
   "execution_count": 78,
   "id": "399614b9",
   "metadata": {},
   "outputs": [],
   "source": [
    "test_df = test_df.fillna(0)"
   ]
  },
  {
   "cell_type": "code",
   "execution_count": 79,
   "id": "00daa11b",
   "metadata": {},
   "outputs": [
    {
     "data": {
      "text/plain": [
       "Sensor1_PM2.5        0\n",
       "Sensor2_PM2.5        0\n",
       "Temperature          0\n",
       "Relative_Humidity    0\n",
       "Hour                 0\n",
       "Month                0\n",
       "Day of Week          0\n",
       "dtype: int64"
      ]
     },
     "execution_count": 79,
     "metadata": {},
     "output_type": "execute_result"
    }
   ],
   "source": [
    "test_df.isna().sum()"
   ]
  },
  {
   "cell_type": "code",
   "execution_count": 80,
   "id": "96be5e5c",
   "metadata": {},
   "outputs": [
    {
     "name": "stderr",
     "output_type": "stream",
     "text": [
      "/home/victor/anaconda3/lib/python3.8/site-packages/sklearn/base.py:443: UserWarning: X has feature names, but LogisticRegression was fitted without feature names\n",
      "  warnings.warn(\n"
     ]
    },
    {
     "ename": "ValueError",
     "evalue": "X has 7 features, but LogisticRegression is expecting 8 features as input.",
     "output_type": "error",
     "traceback": [
      "\u001b[0;31m---------------------------------------------------------------------------\u001b[0m",
      "\u001b[0;31mValueError\u001b[0m                                Traceback (most recent call last)",
      "\u001b[0;32m<ipython-input-80-36fee5298f9a>\u001b[0m in \u001b[0;36m<module>\u001b[0;34m\u001b[0m\n\u001b[1;32m      1\u001b[0m \u001b[0mtest_df\u001b[0m \u001b[0;34m=\u001b[0m \u001b[0mtest_df\u001b[0m\u001b[0;34m[\u001b[0m\u001b[0mfeats\u001b[0m\u001b[0;34m]\u001b[0m\u001b[0;34m\u001b[0m\u001b[0;34m\u001b[0m\u001b[0m\n\u001b[0;32m----> 2\u001b[0;31m \u001b[0mlogistic_predictions\u001b[0m \u001b[0;34m=\u001b[0m \u001b[0mlogmodel\u001b[0m\u001b[0;34m.\u001b[0m\u001b[0mpredict\u001b[0m\u001b[0;34m(\u001b[0m\u001b[0mtest_df\u001b[0m\u001b[0;34m)\u001b[0m\u001b[0;34m\u001b[0m\u001b[0;34m\u001b[0m\u001b[0m\n\u001b[0m",
      "\u001b[0;32m~/anaconda3/lib/python3.8/site-packages/sklearn/linear_model/_base.py\u001b[0m in \u001b[0;36mpredict\u001b[0;34m(self, X)\u001b[0m\n\u001b[1;32m    423\u001b[0m             \u001b[0mVector\u001b[0m \u001b[0mcontaining\u001b[0m \u001b[0mthe\u001b[0m \u001b[0;32mclass\u001b[0m \u001b[0mlabels\u001b[0m \u001b[0;32mfor\u001b[0m \u001b[0meach\u001b[0m \u001b[0msample\u001b[0m\u001b[0;34m.\u001b[0m\u001b[0;34m\u001b[0m\u001b[0;34m\u001b[0m\u001b[0m\n\u001b[1;32m    424\u001b[0m         \"\"\"\n\u001b[0;32m--> 425\u001b[0;31m         \u001b[0mscores\u001b[0m \u001b[0;34m=\u001b[0m \u001b[0mself\u001b[0m\u001b[0;34m.\u001b[0m\u001b[0mdecision_function\u001b[0m\u001b[0;34m(\u001b[0m\u001b[0mX\u001b[0m\u001b[0;34m)\u001b[0m\u001b[0;34m\u001b[0m\u001b[0;34m\u001b[0m\u001b[0m\n\u001b[0m\u001b[1;32m    426\u001b[0m         \u001b[0;32mif\u001b[0m \u001b[0mlen\u001b[0m\u001b[0;34m(\u001b[0m\u001b[0mscores\u001b[0m\u001b[0;34m.\u001b[0m\u001b[0mshape\u001b[0m\u001b[0;34m)\u001b[0m \u001b[0;34m==\u001b[0m \u001b[0;36m1\u001b[0m\u001b[0;34m:\u001b[0m\u001b[0;34m\u001b[0m\u001b[0;34m\u001b[0m\u001b[0m\n\u001b[1;32m    427\u001b[0m             \u001b[0mindices\u001b[0m \u001b[0;34m=\u001b[0m \u001b[0;34m(\u001b[0m\u001b[0mscores\u001b[0m \u001b[0;34m>\u001b[0m \u001b[0;36m0\u001b[0m\u001b[0;34m)\u001b[0m\u001b[0;34m.\u001b[0m\u001b[0mastype\u001b[0m\u001b[0;34m(\u001b[0m\u001b[0mint\u001b[0m\u001b[0;34m)\u001b[0m\u001b[0;34m\u001b[0m\u001b[0;34m\u001b[0m\u001b[0m\n",
      "\u001b[0;32m~/anaconda3/lib/python3.8/site-packages/sklearn/linear_model/_base.py\u001b[0m in \u001b[0;36mdecision_function\u001b[0;34m(self, X)\u001b[0m\n\u001b[1;32m    405\u001b[0m         \u001b[0mcheck_is_fitted\u001b[0m\u001b[0;34m(\u001b[0m\u001b[0mself\u001b[0m\u001b[0;34m)\u001b[0m\u001b[0;34m\u001b[0m\u001b[0;34m\u001b[0m\u001b[0m\n\u001b[1;32m    406\u001b[0m \u001b[0;34m\u001b[0m\u001b[0m\n\u001b[0;32m--> 407\u001b[0;31m         \u001b[0mX\u001b[0m \u001b[0;34m=\u001b[0m \u001b[0mself\u001b[0m\u001b[0;34m.\u001b[0m\u001b[0m_validate_data\u001b[0m\u001b[0;34m(\u001b[0m\u001b[0mX\u001b[0m\u001b[0;34m,\u001b[0m \u001b[0maccept_sparse\u001b[0m\u001b[0;34m=\u001b[0m\u001b[0;34m\"csr\"\u001b[0m\u001b[0;34m,\u001b[0m \u001b[0mreset\u001b[0m\u001b[0;34m=\u001b[0m\u001b[0;32mFalse\u001b[0m\u001b[0;34m)\u001b[0m\u001b[0;34m\u001b[0m\u001b[0;34m\u001b[0m\u001b[0m\n\u001b[0m\u001b[1;32m    408\u001b[0m         \u001b[0mscores\u001b[0m \u001b[0;34m=\u001b[0m \u001b[0msafe_sparse_dot\u001b[0m\u001b[0;34m(\u001b[0m\u001b[0mX\u001b[0m\u001b[0;34m,\u001b[0m \u001b[0mself\u001b[0m\u001b[0;34m.\u001b[0m\u001b[0mcoef_\u001b[0m\u001b[0;34m.\u001b[0m\u001b[0mT\u001b[0m\u001b[0;34m,\u001b[0m \u001b[0mdense_output\u001b[0m\u001b[0;34m=\u001b[0m\u001b[0;32mTrue\u001b[0m\u001b[0;34m)\u001b[0m \u001b[0;34m+\u001b[0m \u001b[0mself\u001b[0m\u001b[0;34m.\u001b[0m\u001b[0mintercept_\u001b[0m\u001b[0;34m\u001b[0m\u001b[0;34m\u001b[0m\u001b[0m\n\u001b[1;32m    409\u001b[0m         \u001b[0;32mreturn\u001b[0m \u001b[0mscores\u001b[0m\u001b[0;34m.\u001b[0m\u001b[0mravel\u001b[0m\u001b[0;34m(\u001b[0m\u001b[0;34m)\u001b[0m \u001b[0;32mif\u001b[0m \u001b[0mscores\u001b[0m\u001b[0;34m.\u001b[0m\u001b[0mshape\u001b[0m\u001b[0;34m[\u001b[0m\u001b[0;36m1\u001b[0m\u001b[0;34m]\u001b[0m \u001b[0;34m==\u001b[0m \u001b[0;36m1\u001b[0m \u001b[0;32melse\u001b[0m \u001b[0mscores\u001b[0m\u001b[0;34m\u001b[0m\u001b[0;34m\u001b[0m\u001b[0m\n",
      "\u001b[0;32m~/anaconda3/lib/python3.8/site-packages/sklearn/base.py\u001b[0m in \u001b[0;36m_validate_data\u001b[0;34m(self, X, y, reset, validate_separately, **check_params)\u001b[0m\n\u001b[1;32m    583\u001b[0m \u001b[0;34m\u001b[0m\u001b[0m\n\u001b[1;32m    584\u001b[0m         \u001b[0;32mif\u001b[0m \u001b[0;32mnot\u001b[0m \u001b[0mno_val_X\u001b[0m \u001b[0;32mand\u001b[0m \u001b[0mcheck_params\u001b[0m\u001b[0;34m.\u001b[0m\u001b[0mget\u001b[0m\u001b[0;34m(\u001b[0m\u001b[0;34m\"ensure_2d\"\u001b[0m\u001b[0;34m,\u001b[0m \u001b[0;32mTrue\u001b[0m\u001b[0;34m)\u001b[0m\u001b[0;34m:\u001b[0m\u001b[0;34m\u001b[0m\u001b[0;34m\u001b[0m\u001b[0m\n\u001b[0;32m--> 585\u001b[0;31m             \u001b[0mself\u001b[0m\u001b[0;34m.\u001b[0m\u001b[0m_check_n_features\u001b[0m\u001b[0;34m(\u001b[0m\u001b[0mX\u001b[0m\u001b[0;34m,\u001b[0m \u001b[0mreset\u001b[0m\u001b[0;34m=\u001b[0m\u001b[0mreset\u001b[0m\u001b[0;34m)\u001b[0m\u001b[0;34m\u001b[0m\u001b[0;34m\u001b[0m\u001b[0m\n\u001b[0m\u001b[1;32m    586\u001b[0m \u001b[0;34m\u001b[0m\u001b[0m\n\u001b[1;32m    587\u001b[0m         \u001b[0;32mreturn\u001b[0m \u001b[0mout\u001b[0m\u001b[0;34m\u001b[0m\u001b[0;34m\u001b[0m\u001b[0m\n",
      "\u001b[0;32m~/anaconda3/lib/python3.8/site-packages/sklearn/base.py\u001b[0m in \u001b[0;36m_check_n_features\u001b[0;34m(self, X, reset)\u001b[0m\n\u001b[1;32m    398\u001b[0m \u001b[0;34m\u001b[0m\u001b[0m\n\u001b[1;32m    399\u001b[0m         \u001b[0;32mif\u001b[0m \u001b[0mn_features\u001b[0m \u001b[0;34m!=\u001b[0m \u001b[0mself\u001b[0m\u001b[0;34m.\u001b[0m\u001b[0mn_features_in_\u001b[0m\u001b[0;34m:\u001b[0m\u001b[0;34m\u001b[0m\u001b[0;34m\u001b[0m\u001b[0m\n\u001b[0;32m--> 400\u001b[0;31m             raise ValueError(\n\u001b[0m\u001b[1;32m    401\u001b[0m                 \u001b[0;34mf\"X has {n_features} features, but {self.__class__.__name__} \"\u001b[0m\u001b[0;34m\u001b[0m\u001b[0;34m\u001b[0m\u001b[0m\n\u001b[1;32m    402\u001b[0m                 \u001b[0;34mf\"is expecting {self.n_features_in_} features as input.\"\u001b[0m\u001b[0;34m\u001b[0m\u001b[0;34m\u001b[0m\u001b[0m\n",
      "\u001b[0;31mValueError\u001b[0m: X has 7 features, but LogisticRegression is expecting 8 features as input."
     ]
    }
   ],
   "source": [
    "test_df = test_df[feats]\n",
    "logistic_predictions = logmodel.predict(test_df)\n"
   ]
  },
  {
   "cell_type": "code",
   "execution_count": 78,
   "id": "a435e168",
   "metadata": {},
   "outputs": [],
   "source": [
    "X_test = scale.fit(X_test)"
   ]
  },
  {
   "cell_type": "code",
   "execution_count": null,
   "id": "40b047c3",
   "metadata": {},
   "outputs": [],
   "source": []
  }
 ],
 "metadata": {
  "kernelspec": {
   "display_name": "Python 3",
   "language": "python",
   "name": "python3"
  },
  "language_info": {
   "codemirror_mode": {
    "name": "ipython",
    "version": 3
   },
   "file_extension": ".py",
   "mimetype": "text/x-python",
   "name": "python",
   "nbconvert_exporter": "python",
   "pygments_lexer": "ipython3",
   "version": "3.8.8"
  }
 },
 "nbformat": 4,
 "nbformat_minor": 5
}
